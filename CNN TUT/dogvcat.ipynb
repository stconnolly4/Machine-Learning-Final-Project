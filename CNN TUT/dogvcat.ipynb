{
 "cells": [
  {
   "cell_type": "code",
   "execution_count": 1,
   "metadata": {
    "collapsed": true,
    "pycharm": {
     "is_executing": false
    }
   },
   "outputs": [],
   "source": [
    "import cv2\n",
    "import numpy as np\n",
    "import os\n",
    "from random import shuffle\n",
    "from tqdm import tqdm\n",
    "\n",
    "TRAIN_DIR = 'dogsvcats/train'\n",
    "TEST_DIR = 'dogsvcats/test'\n",
    "IMG_SIZE = 50\n",
    "LR = 1e-3\n",
    "\n",
    "MODEL_NAME = 'dogsvcats-{}-{}.model'.format(LR, '6conv-basic-video')"
   ]
  },
  {
   "cell_type": "code",
   "execution_count": 2,
   "metadata": {
    "pycharm": {
     "is_executing": false,
     "name": "#%%\n"
    }
   },
   "outputs": [],
   "source": [
    "def label_img(img):\n",
    "    word_label = img.split('.')[-3]\n",
    "    if word_label == 'cat' : return [1,0]\n",
    "    elif word_label == 'dog' : return [0,1]"
   ]
  },
  {
   "cell_type": "code",
   "execution_count": 3,
   "metadata": {
    "pycharm": {
     "is_executing": false,
     "name": "#%%\n"
    }
   },
   "outputs": [],
   "source": [
    "def create_train_data():\n",
    "    training_data = []\n",
    "    for img in tqdm(os.listdir(TRAIN_DIR)):\n",
    "        label = label_img(img)\n",
    "        path = os.path.join(TRAIN_DIR, img)\n",
    "        img = cv2.resize(cv2.imread(path, cv2.IMREAD_GRAYSCALE),(IMG_SIZE, IMG_SIZE))\n",
    "        training_data.append([np.array(img), np.array(label)])\n",
    "    shuffle(training_data)\n",
    "    np.save('train_data.npy', training_data)\n",
    "    return training_data\n",
    "        "
   ]
  },
  {
   "cell_type": "code",
   "execution_count": 4,
   "metadata": {
    "pycharm": {
     "is_executing": false,
     "name": "#%%\n"
    }
   },
   "outputs": [],
   "source": [
    "def process_test_data():\n",
    "    testing_data = []\n",
    "    for img in tqdm(os.listdir(TEST_DIR)):\n",
    "        path = os.path.join(TEST_DIR,img)\n",
    "        img_num = img.split('.')[0]\n",
    "        img = cv2.resize(cv2.imread(path, cv2.IMREAD_GRAYSCALE), (IMG_SIZE, IMG_SIZE))\n",
    "        testing_data.append([np.array(img), img_num])\n",
    "    \n",
    "    np.save('test_data.npy', testing_data)\n",
    "    return testing_data\n",
    "\n"
   ]
  },
  {
   "cell_type": "code",
   "execution_count": 5,
   "metadata": {
    "pycharm": {
     "is_executing": false,
     "name": "#%%\n"
    }
   },
   "outputs": [
    {
     "name": "stderr",
     "text": [
      "\r  0%|          | 0/25000 [00:00<?, ?it/s]",
      "\r  1%|          | 132/25000 [00:00<00:18, 1318.92it/s]",
      "\r  1%|          | 235/25000 [00:00<00:20, 1216.19it/s]",
      "\r  1%|▏         | 364/25000 [00:00<00:19, 1237.14it/s]",
      "\r  2%|▏         | 495/25000 [00:00<00:19, 1257.84it/s]",
      "\r  3%|▎         | 626/25000 [00:00<00:19, 1272.74it/s]",
      "\r  3%|▎         | 759/25000 [00:00<00:18, 1289.09it/s]",
      "\r  4%|▎         | 889/25000 [00:00<00:18, 1292.03it/s]",
      "\r  4%|▍         | 1013/25000 [00:00<00:18, 1275.65it/s]",
      "\r  5%|▍         | 1134/25000 [00:00<00:20, 1177.87it/s]",
      "\r  5%|▌         | 1258/25000 [00:01<00:19, 1195.56it/s]",
      "\r  6%|▌         | 1395/25000 [00:01<00:19, 1241.07it/s]",
      "\r  6%|▌         | 1527/25000 [00:01<00:18, 1263.44it/s]",
      "\r  7%|▋         | 1653/25000 [00:01<00:20, 1143.43it/s]",
      "\r  7%|▋         | 1784/25000 [00:01<00:19, 1187.79it/s]",
      "\r  8%|▊         | 1914/25000 [00:01<00:18, 1219.07it/s]",
      "\r  8%|▊         | 2038/25000 [00:01<00:18, 1224.97it/s]",
      "\r  9%|▊         | 2162/25000 [00:01<00:19, 1176.62it/s]",
      "\r  9%|▉         | 2286/25000 [00:01<00:19, 1194.66it/s]",
      "\r 10%|▉         | 2422/25000 [00:01<00:18, 1239.60it/s]",
      "\r 10%|█         | 2550/25000 [00:02<00:17, 1251.15it/s]",
      "\r 11%|█         | 2676/25000 [00:02<00:18, 1227.81it/s]",
      "\r 11%|█         | 2801/25000 [00:02<00:17, 1234.09it/s]",
      "\r 12%|█▏        | 2932/25000 [00:02<00:17, 1255.63it/s]",
      "\r 12%|█▏        | 3068/25000 [00:02<00:17, 1284.92it/s]",
      "\r 13%|█▎        | 3197/25000 [00:02<00:17, 1248.74it/s]",
      "\r 13%|█▎        | 3332/25000 [00:02<00:16, 1277.17it/s]",
      "\r 14%|█▍        | 3466/25000 [00:02<00:16, 1295.09it/s]",
      "\r 14%|█▍        | 3596/25000 [00:02<00:16, 1296.24it/s]",
      "\r 15%|█▍        | 3726/25000 [00:02<00:16, 1297.05it/s]",
      "\r 15%|█▌        | 3856/25000 [00:03<00:16, 1289.89it/s]",
      "\r 16%|█▌        | 3986/25000 [00:03<00:16, 1281.11it/s]",
      "\r 16%|█▋        | 4116/25000 [00:03<00:16, 1286.40it/s]",
      "\r 17%|█▋        | 4253/25000 [00:03<00:15, 1309.48it/s]",
      "\r 18%|█▊        | 4385/25000 [00:03<00:15, 1296.81it/s]",
      "\r 18%|█▊        | 4521/25000 [00:03<00:15, 1313.08it/s]",
      "\r 19%|█▊        | 4653/25000 [00:03<00:15, 1310.78it/s]",
      "\r 19%|█▉        | 4785/25000 [00:03<00:15, 1297.70it/s]",
      "\r 20%|█▉        | 4915/25000 [00:03<00:17, 1181.21it/s]",
      "\r 20%|██        | 5045/25000 [00:04<00:16, 1214.23it/s]",
      "\r 21%|██        | 5177/25000 [00:04<00:15, 1243.85it/s]",
      "\r 21%|██        | 5303/25000 [00:04<00:15, 1240.96it/s]",
      "\r 22%|██▏       | 5429/25000 [00:04<00:16, 1186.41it/s]",
      "\r 22%|██▏       | 5563/25000 [00:04<00:15, 1228.38it/s]",
      "\r 23%|██▎       | 5704/25000 [00:04<00:15, 1277.47it/s]",
      "\r 23%|██▎       | 5834/25000 [00:04<00:15, 1265.08it/s]",
      "\r 24%|██▍       | 5963/25000 [00:04<00:14, 1272.15it/s]",
      "\r 24%|██▍       | 6093/25000 [00:04<00:14, 1280.07it/s]",
      "\r 25%|██▍       | 6222/25000 [00:04<00:15, 1245.53it/s]",
      "\r 25%|██▌       | 6354/25000 [00:05<00:14, 1266.68it/s]",
      "\r 26%|██▌       | 6482/25000 [00:05<00:14, 1270.34it/s]",
      "\r 26%|██▋       | 6613/25000 [00:05<00:14, 1281.67it/s]",
      "\r 27%|██▋       | 6742/25000 [00:05<00:15, 1188.00it/s]",
      "\r 28%|██▊       | 6883/25000 [00:05<00:14, 1246.62it/s]",
      "\r 28%|██▊       | 7010/25000 [00:05<00:14, 1249.54it/s]",
      "\r 29%|██▊       | 7137/25000 [00:05<00:14, 1251.59it/s]",
      "\r 29%|██▉       | 7264/25000 [00:05<00:14, 1238.36it/s]",
      "\r 30%|██▉       | 7398/25000 [00:05<00:13, 1266.89it/s]",
      "\r 30%|███       | 7529/25000 [00:06<00:13, 1279.21it/s]",
      "\r 31%|███       | 7658/25000 [00:06<00:14, 1237.79it/s]",
      "\r 31%|███       | 7787/25000 [00:06<00:13, 1252.71it/s]",
      "\r 32%|███▏      | 7921/25000 [00:06<00:13, 1277.38it/s]",
      "\r 32%|███▏      | 8050/25000 [00:06<00:13, 1280.83it/s]",
      "\r 33%|███▎      | 8179/25000 [00:06<00:13, 1275.63it/s]",
      "\r 33%|███▎      | 8309/25000 [00:06<00:13, 1282.54it/s]",
      "\r 34%|███▍      | 8438/25000 [00:06<00:12, 1280.62it/s]",
      "\r 34%|███▍      | 8572/25000 [00:06<00:12, 1297.57it/s]",
      "\r 35%|███▍      | 8704/25000 [00:06<00:12, 1303.90it/s]",
      "\r 35%|███▌      | 8841/25000 [00:07<00:12, 1322.73it/s]",
      "\r 36%|███▌      | 8974/25000 [00:07<00:12, 1297.43it/s]",
      "\r 36%|███▋      | 9107/25000 [00:07<00:12, 1306.72it/s]",
      "\r 37%|███▋      | 9238/25000 [00:07<00:12, 1299.59it/s]",
      "\r 37%|███▋      | 9369/25000 [00:07<00:12, 1264.63it/s]",
      "\r 38%|███▊      | 9497/25000 [00:07<00:12, 1268.89it/s]",
      "\r 39%|███▊      | 9636/25000 [00:07<00:11, 1302.65it/s]",
      "\r 39%|███▉      | 9767/25000 [00:07<00:11, 1270.34it/s]",
      "\r 40%|███▉      | 9899/25000 [00:07<00:11, 1284.54it/s]",
      "\r 40%|████      | 10028/25000 [00:07<00:11, 1278.20it/s]",
      "\r 41%|████      | 10160/25000 [00:08<00:11, 1290.15it/s]",
      "\r 41%|████      | 10290/25000 [00:08<00:11, 1273.76it/s]",
      "\r 42%|████▏     | 10424/25000 [00:08<00:11, 1292.63it/s]",
      "\r 42%|████▏     | 10556/25000 [00:08<00:11, 1300.41it/s]",
      "\r 43%|████▎     | 10687/25000 [00:08<00:11, 1291.38it/s]",
      "\r 43%|████▎     | 10819/25000 [00:08<00:10, 1299.52it/s]",
      "\r 44%|████▍     | 10954/25000 [00:08<00:10, 1310.12it/s]",
      "\r 44%|████▍     | 11091/25000 [00:08<00:10, 1327.21it/s]",
      "\r 45%|████▍     | 11224/25000 [00:08<00:10, 1300.44it/s]",
      "\r 45%|████▌     | 11360/25000 [00:08<00:10, 1317.44it/s]",
      "\r 46%|████▌     | 11494/25000 [00:09<00:10, 1323.80it/s]",
      "\r 47%|████▋     | 11627/25000 [00:09<00:10, 1325.33it/s]",
      "\r 47%|████▋     | 11760/25000 [00:09<00:10, 1322.44it/s]",
      "\r 48%|████▊     | 11902/25000 [00:09<00:09, 1349.96it/s]",
      "\r 48%|████▊     | 12038/25000 [00:09<00:09, 1324.93it/s]",
      "\r 49%|████▊     | 12171/25000 [00:09<00:09, 1326.12it/s]",
      "\r 49%|████▉     | 12304/25000 [00:09<00:09, 1303.53it/s]",
      "\r 50%|████▉     | 12435/25000 [00:09<00:09, 1259.92it/s]",
      "\r 50%|█████     | 12562/25000 [00:09<00:09, 1245.86it/s]",
      "\r 51%|█████     | 12687/25000 [00:10<00:09, 1243.04it/s]",
      "\r 51%|█████     | 12812/25000 [00:10<00:10, 1197.79it/s]",
      "\r 52%|█████▏    | 12933/25000 [00:10<00:10, 1184.26it/s]",
      "\r 52%|█████▏    | 13056/25000 [00:10<00:09, 1197.33it/s]",
      "\r 53%|█████▎    | 13177/25000 [00:10<00:09, 1190.17it/s]",
      "\r 53%|█████▎    | 13297/25000 [00:10<00:10, 1165.00it/s]",
      "\r 54%|█████▎    | 13422/25000 [00:10<00:09, 1187.55it/s]",
      "\r 54%|█████▍    | 13542/25000 [00:10<00:09, 1180.41it/s]",
      "\r 55%|█████▍    | 13661/25000 [00:10<00:09, 1157.76it/s]",
      "\r 55%|█████▌    | 13787/25000 [00:10<00:09, 1186.38it/s]",
      "\r 56%|█████▌    | 13906/25000 [00:11<00:09, 1149.30it/s]",
      "\r 56%|█████▌    | 14031/25000 [00:11<00:09, 1177.49it/s]",
      "\r 57%|█████▋    | 14160/25000 [00:11<00:08, 1208.85it/s]",
      "\r 57%|█████▋    | 14282/25000 [00:11<00:08, 1208.27it/s]",
      "\r 58%|█████▊    | 14404/25000 [00:11<00:08, 1200.73it/s]",
      "\r 58%|█████▊    | 14532/25000 [00:11<00:08, 1223.17it/s]",
      "\r 59%|█████▊    | 14655/25000 [00:11<00:08, 1221.26it/s]",
      "\r 59%|█████▉    | 14778/25000 [00:11<00:08, 1212.69it/s]",
      "\r 60%|█████▉    | 14900/25000 [00:11<00:08, 1210.96it/s]",
      "\r 60%|██████    | 15022/25000 [00:11<00:08, 1204.47it/s]",
      "\r 61%|██████    | 15145/25000 [00:12<00:08, 1211.72it/s]",
      "\r 61%|██████    | 15271/25000 [00:12<00:07, 1221.95it/s]",
      "\r 62%|██████▏   | 15404/25000 [00:12<00:07, 1252.19it/s]",
      "\r 62%|██████▏   | 15530/25000 [00:12<00:07, 1193.57it/s]",
      "\r 63%|██████▎   | 15662/25000 [00:12<00:07, 1228.60it/s]",
      "\r 63%|██████▎   | 15787/25000 [00:12<00:07, 1234.65it/s]",
      "\r 64%|██████▎   | 15912/25000 [00:12<00:07, 1235.23it/s]",
      "\r 64%|██████▍   | 16038/25000 [00:12<00:07, 1242.26it/s]",
      "\r 65%|██████▍   | 16163/25000 [00:12<00:07, 1233.21it/s]",
      "\r 65%|██████▌   | 16287/25000 [00:12<00:07, 1227.59it/s]",
      "\r 66%|██████▌   | 16410/25000 [00:13<00:07, 1220.70it/s]",
      "\r 66%|██████▌   | 16533/25000 [00:13<00:06, 1215.91it/s]",
      "\r 67%|██████▋   | 16658/25000 [00:13<00:06, 1225.65it/s]",
      "\r 67%|██████▋   | 16781/25000 [00:13<00:07, 1170.57it/s]",
      "\r 68%|██████▊   | 16908/25000 [00:13<00:06, 1198.45it/s]",
      "\r 68%|██████▊   | 17029/25000 [00:13<00:06, 1201.59it/s]",
      "\r 69%|██████▊   | 17153/25000 [00:13<00:06, 1212.58it/s]",
      "\r 69%|██████▉   | 17275/25000 [00:13<00:06, 1210.88it/s]",
      "\r 70%|██████▉   | 17401/25000 [00:13<00:06, 1224.91it/s]",
      "\r 70%|███████   | 17524/25000 [00:14<00:06, 1200.97it/s]",
      "\r 71%|███████   | 17654/25000 [00:14<00:05, 1228.78it/s]",
      "\r 71%|███████   | 17778/25000 [00:14<00:05, 1224.51it/s]",
      "\r 72%|███████▏  | 17906/25000 [00:14<00:05, 1240.35it/s]",
      "\r 72%|███████▏  | 18031/25000 [00:14<00:05, 1231.90it/s]",
      "\r 73%|███████▎  | 18159/25000 [00:14<00:05, 1245.64it/s]",
      "\r 73%|███████▎  | 18287/25000 [00:14<00:05, 1255.46it/s]",
      "\r 74%|███████▎  | 18413/25000 [00:14<00:05, 1237.97it/s]",
      "\r 74%|███████▍  | 18544/25000 [00:14<00:05, 1258.44it/s]",
      "\r 75%|███████▍  | 18671/25000 [00:14<00:05, 1250.39it/s]",
      "\r 75%|███████▌  | 18797/25000 [00:15<00:05, 1238.17it/s]",
      "\r 76%|███████▌  | 18924/25000 [00:15<00:04, 1247.24it/s]",
      "\r 76%|███████▌  | 19054/25000 [00:15<00:04, 1262.31it/s]",
      "\r 77%|███████▋  | 19181/25000 [00:15<00:04, 1245.69it/s]",
      "\r 77%|███████▋  | 19309/25000 [00:15<00:04, 1255.48it/s]",
      "\r 78%|███████▊  | 19437/25000 [00:15<00:04, 1258.71it/s]",
      "\r 78%|███████▊  | 19563/25000 [00:15<00:04, 1247.56it/s]",
      "\r 79%|███████▉  | 19688/25000 [00:15<00:04, 1218.76it/s]",
      "\r 79%|███████▉  | 19811/25000 [00:15<00:04, 1214.56it/s]",
      "\r 80%|███████▉  | 19936/25000 [00:15<00:04, 1224.69it/s]",
      "\r 80%|████████  | 20059/25000 [00:16<00:04, 1222.32it/s]",
      "\r 81%|████████  | 20188/25000 [00:16<00:03, 1241.57it/s]",
      "\r 81%|████████▏ | 20313/25000 [00:16<00:03, 1176.97it/s]",
      "\r 82%|████████▏ | 20439/25000 [00:16<00:03, 1200.43it/s]",
      "\r 82%|████████▏ | 20563/25000 [00:16<00:03, 1211.74it/s]",
      "\r 83%|████████▎ | 20686/25000 [00:16<00:03, 1216.87it/s]",
      "\r 83%|████████▎ | 20809/25000 [00:16<00:03, 1164.95it/s]",
      "\r 84%|████████▎ | 20935/25000 [00:16<00:03, 1191.65it/s]",
      "\r 84%|████████▍ | 21055/25000 [00:16<00:03, 1179.75it/s]",
      "\r 85%|████████▍ | 21189/25000 [00:17<00:03, 1223.38it/s]",
      "\r 85%|████████▌ | 21314/25000 [00:17<00:02, 1230.95it/s]",
      "\r 86%|████████▌ | 21438/25000 [00:17<00:02, 1229.68it/s]",
      "\r 86%|████████▋ | 21567/25000 [00:17<00:02, 1246.88it/s]",
      "\r 87%|████████▋ | 21693/25000 [00:17<00:02, 1250.48it/s]",
      "\r 87%|████████▋ | 21819/25000 [00:17<00:02, 1234.58it/s]",
      "\r 88%|████████▊ | 21943/25000 [00:17<00:02, 1235.90it/s]",
      "\r 88%|████████▊ | 22067/25000 [00:17<00:02, 1233.13it/s]",
      "\r 89%|████████▉ | 22192/25000 [00:17<00:02, 1237.85it/s]",
      "\r 89%|████████▉ | 22323/25000 [00:17<00:02, 1258.34it/s]",
      "\r 90%|████████▉ | 22449/25000 [00:18<00:02, 1211.31it/s]",
      "\r 90%|█████████ | 22579/25000 [00:18<00:01, 1236.33it/s]",
      "\r 91%|█████████ | 22705/25000 [00:18<00:01, 1243.03it/s]",
      "\r 91%|█████████▏| 22830/25000 [00:18<00:01, 1241.10it/s]",
      "\r 92%|█████████▏| 22955/25000 [00:18<00:01, 1232.41it/s]",
      "\r 92%|█████████▏| 23082/25000 [00:18<00:01, 1243.15it/s]",
      "\r 93%|█████████▎| 23212/25000 [00:18<00:01, 1259.38it/s]",
      "\r 93%|█████████▎| 23339/25000 [00:18<00:01, 1247.35it/s]",
      "\r 94%|█████████▍| 23464/25000 [00:18<00:01, 1225.79it/s]",
      "\r 94%|█████████▍| 23587/25000 [00:18<00:01, 1226.75it/s]",
      "\r 95%|█████████▍| 23711/25000 [00:19<00:01, 1230.40it/s]",
      "\r 95%|█████████▌| 23835/25000 [00:19<00:00, 1232.96it/s]",
      "\r 96%|█████████▌| 23959/25000 [00:19<00:00, 1223.79it/s]",
      "\r 96%|█████████▋| 24082/25000 [00:19<00:00, 1221.69it/s]",
      "\r 97%|█████████▋| 24213/25000 [00:19<00:00, 1246.61it/s]",
      "\r 97%|█████████▋| 24341/25000 [00:19<00:00, 1256.14it/s]",
      "\r 98%|█████████▊| 24467/25000 [00:19<00:00, 1189.31it/s]",
      "\r 98%|█████████▊| 24587/25000 [00:19<00:00, 1188.66it/s]",
      "\r 99%|█████████▉| 24707/25000 [00:19<00:00, 1188.21it/s]",
      "\r 99%|█████████▉| 24827/25000 [00:19<00:00, 1167.07it/s]",
      "\r100%|█████████▉| 24949/25000 [00:20<00:00, 1182.18it/s]",
      "\r100%|██████████| 25000/25000 [00:20<00:00, 1243.04it/s]",
      "\n"
     ],
     "output_type": "stream"
    }
   ],
   "source": [
    "train_data = create_train_data()\n",
    "# if already have trained data\n",
    "# train_data = np.load('train_data.npy')\n",
    "\n"
   ]
  },
  {
   "cell_type": "code",
   "execution_count": 6,
   "metadata": {
    "pycharm": {
     "is_executing": false,
     "name": "#%%\n"
    }
   },
   "outputs": [
    {
     "name": "stdout",
     "text": [
      "curses is not supported on this machine (please install/reinstall curses for an optimal experience)\nWARNING:tensorflow:From c:\\users\\djenz\\appdata\\local\\programs\\python\\python37\\lib\\site-packages\\tflearn\\helpers\\summarizer.py:9: The name tf.summary.merge is deprecated. Please use tf.compat.v1.summary.merge instead.\n\n",
      "WARNING:tensorflow:From c:\\users\\djenz\\appdata\\local\\programs\\python\\python37\\lib\\site-packages\\tflearn\\helpers\\trainer.py:25: The name tf.summary.FileWriter is deprecated. Please use tf.compat.v1.summary.FileWriter instead.\n\n",
      "WARNING:tensorflow:From c:\\users\\djenz\\appdata\\local\\programs\\python\\python37\\lib\\site-packages\\tflearn\\collections.py:13: The name tf.GraphKeys is deprecated. Please use tf.compat.v1.GraphKeys instead.\n\n",
      "WARNING:tensorflow:From c:\\users\\djenz\\appdata\\local\\programs\\python\\python37\\lib\\site-packages\\tflearn\\config.py:123: The name tf.get_collection is deprecated. Please use tf.compat.v1.get_collection instead.\n\n",
      "WARNING:tensorflow:From c:\\users\\djenz\\appdata\\local\\programs\\python\\python37\\lib\\site-packages\\tflearn\\config.py:129: The name tf.add_to_collection is deprecated. Please use tf.compat.v1.add_to_collection instead.\n\n",
      "WARNING:tensorflow:From c:\\users\\djenz\\appdata\\local\\programs\\python\\python37\\lib\\site-packages\\tflearn\\config.py:131: The name tf.assign is deprecated. Please use tf.compat.v1.assign instead.\n\n",
      "WARNING:tensorflow:From c:\\users\\djenz\\appdata\\local\\programs\\python\\python37\\lib\\site-packages\\tflearn\\layers\\core.py:81: The name tf.placeholder is deprecated. Please use tf.compat.v1.placeholder instead.\n\n",
      "WARNING:tensorflow:From c:\\users\\djenz\\appdata\\local\\programs\\python\\python37\\lib\\site-packages\\tflearn\\layers\\conv.py:73: The name tf.variable_scope is deprecated. Please use tf.compat.v1.variable_scope instead.\n\n",
      "WARNING:tensorflow:From c:\\users\\djenz\\appdata\\local\\programs\\python\\python37\\lib\\site-packages\\tflearn\\initializations.py:119: calling UniformUnitScaling.__init__ (from tensorflow.python.ops.init_ops) with dtype is deprecated and will be removed in a future version.\nInstructions for updating:\nCall initializer instance with the dtype argument instead of passing it to the constructor\n",
      "WARNING:tensorflow:From c:\\users\\djenz\\appdata\\local\\programs\\python\\python37\\lib\\site-packages\\tensorflow_core\\python\\util\\deprecation.py:507: UniformUnitScaling.__init__ (from tensorflow.python.ops.init_ops) is deprecated and will be removed in a future version.\nInstructions for updating:\nUse tf.initializers.variance_scaling instead with distribution=uniform to get equivalent behavior.\n",
      "WARNING:tensorflow:From c:\\users\\djenz\\appdata\\local\\programs\\python\\python37\\lib\\site-packages\\tflearn\\layers\\conv.py:552: The name tf.nn.max_pool is deprecated. Please use tf.nn.max_pool2d instead.\n\n",
      "WARNING:tensorflow:From c:\\users\\djenz\\appdata\\local\\programs\\python\\python37\\lib\\site-packages\\tflearn\\initializations.py:174: calling TruncatedNormal.__init__ (from tensorflow.python.ops.init_ops) with dtype is deprecated and will be removed in a future version.\nInstructions for updating:\nCall initializer instance with the dtype argument instead of passing it to the constructor\n",
      "WARNING:tensorflow:From c:\\users\\djenz\\appdata\\local\\programs\\python\\python37\\lib\\site-packages\\tflearn\\layers\\core.py:239: calling dropout (from tensorflow.python.ops.nn_ops) with keep_prob is deprecated and will be removed in a future version.\nInstructions for updating:\nPlease use `rate` instead of `keep_prob`. Rate should be set to `rate = 1 - keep_prob`.\n",
      "WARNING:tensorflow:From c:\\users\\djenz\\appdata\\local\\programs\\python\\python37\\lib\\site-packages\\tflearn\\optimizers.py:238: The name tf.train.AdamOptimizer is deprecated. Please use tf.compat.v1.train.AdamOptimizer instead.\n\n",
      "WARNING:tensorflow:From c:\\users\\djenz\\appdata\\local\\programs\\python\\python37\\lib\\site-packages\\tflearn\\objectives.py:66: calling reduce_sum_v1 (from tensorflow.python.ops.math_ops) with keep_dims is deprecated and will be removed in a future version.\nInstructions for updating:\nkeep_dims is deprecated, use keepdims instead\n",
      "WARNING:tensorflow:From c:\\users\\djenz\\appdata\\local\\programs\\python\\python37\\lib\\site-packages\\tflearn\\objectives.py:70: The name tf.log is deprecated. Please use tf.math.log instead.\n\n",
      "WARNING:tensorflow:From c:\\users\\djenz\\appdata\\local\\programs\\python\\python37\\lib\\site-packages\\tflearn\\layers\\estimator.py:189: The name tf.trainable_variables is deprecated. Please use tf.compat.v1.trainable_variables instead.\n\n",
      "WARNING:tensorflow:From c:\\users\\djenz\\appdata\\local\\programs\\python\\python37\\lib\\site-packages\\tflearn\\helpers\\trainer.py:571: The name tf.get_default_graph is deprecated. Please use tf.compat.v1.get_default_graph instead.\n\n",
      "WARNING:tensorflow:From c:\\users\\djenz\\appdata\\local\\programs\\python\\python37\\lib\\site-packages\\tflearn\\helpers\\trainer.py:115: The name tf.Session is deprecated. Please use tf.compat.v1.Session instead.\n\n",
      "WARNING:tensorflow:From c:\\users\\djenz\\appdata\\local\\programs\\python\\python37\\lib\\site-packages\\tflearn\\summaries.py:46: The name tf.summary.scalar is deprecated. Please use tf.compat.v1.summary.scalar instead.\n\n",
      "WARNING:tensorflow:From c:\\users\\djenz\\appdata\\local\\programs\\python\\python37\\lib\\site-packages\\tensorflow_core\\python\\ops\\math_grad.py:1424: where (from tensorflow.python.ops.array_ops) is deprecated and will be removed in a future version.\nInstructions for updating:\nUse tf.where in 2.0, which has the same broadcast rule as np.where\n",
      "WARNING:tensorflow:From c:\\users\\djenz\\appdata\\local\\programs\\python\\python37\\lib\\site-packages\\tflearn\\helpers\\trainer.py:134: The name tf.train.Saver is deprecated. Please use tf.compat.v1.train.Saver instead.\n\n",
      "WARNING:tensorflow:From c:\\users\\djenz\\appdata\\local\\programs\\python\\python37\\lib\\site-packages\\tflearn\\helpers\\trainer.py:164: The name tf.global_variables_initializer is deprecated. Please use tf.compat.v1.global_variables_initializer instead.\n\n",
      "WARNING:tensorflow:From c:\\users\\djenz\\appdata\\local\\programs\\python\\python37\\lib\\site-packages\\tflearn\\helpers\\trainer.py:165: The name tf.local_variables_initializer is deprecated. Please use tf.compat.v1.local_variables_initializer instead.\n\n",
      "WARNING:tensorflow:From c:\\users\\djenz\\appdata\\local\\programs\\python\\python37\\lib\\site-packages\\tflearn\\helpers\\trainer.py:166: The name tf.variables_initializer is deprecated. Please use tf.compat.v1.variables_initializer instead.\n\n",
      "WARNING:tensorflow:From c:\\users\\djenz\\appdata\\local\\programs\\python\\python37\\lib\\site-packages\\tflearn\\helpers\\trainer.py:167: The name tf.get_collection_ref is deprecated. Please use tf.compat.v1.get_collection_ref instead.\n\n"
     ],
     "output_type": "stream"
    }
   ],
   "source": [
    "import tflearn\n",
    "from tflearn.layers.conv import conv_2d, max_pool_2d\n",
    "from tflearn.layers.core import input_data, dropout, fully_connected\n",
    "from tflearn.layers.estimator import regression\n",
    "\n",
    "import tensorflow as tf\n",
    "\n",
    "tf.reset_default_graph()\n",
    "\n",
    "convnet = input_data(shape=[None, IMG_SIZE, IMG_SIZE, 1], name='input')\n",
    "\n",
    "convnet = conv_2d(convnet, 32, 2, activation='relu')\n",
    "convnet = max_pool_2d(convnet, 2)\n",
    "\n",
    "convnet = conv_2d(convnet, 64, 2, activation='relu')\n",
    "convnet = max_pool_2d(convnet, 2)\n",
    "\n",
    "\n",
    "convnet = conv_2d(convnet, 32, 2, activation='relu')\n",
    "convnet = max_pool_2d(convnet, 2)\n",
    "\n",
    "convnet = conv_2d(convnet, 64, 2, activation='relu')\n",
    "convnet = max_pool_2d(convnet, 2)\n",
    "\n",
    "\n",
    "convnet = conv_2d(convnet, 32, 2, activation='relu')\n",
    "convnet = max_pool_2d(convnet, 2)\n",
    "\n",
    "convnet = conv_2d(convnet, 64, 2, activation='relu')\n",
    "convnet = max_pool_2d(convnet, 2)\n",
    "\n",
    "\n",
    "convnet = fully_connected(convnet, 1024, activation='relu')\n",
    "convnet = dropout(convnet, 0.8)\n",
    "\n",
    "convnet = fully_connected(convnet, 2, activation='softmax')\n",
    "convnet = regression(convnet, optimizer='adam', learning_rate=LR, loss='categorical_crossentropy', name='targets')\n",
    "\n",
    "model = tflearn.DNN(convnet, tensorboard_dir='log')"
   ]
  },
  {
   "cell_type": "code",
   "execution_count": 7,
   "metadata": {
    "pycharm": {
     "is_executing": false,
     "name": "#%%\n"
    }
   },
   "outputs": [],
   "source": [
    "# if os.path.exists('{}.meta'.format(MODEL_NAME)):\n",
    "#     model.load(MODEL_NAME)\n",
    "#     print(\"model loaded\")\n",
    "\n"
   ]
  },
  {
   "cell_type": "code",
   "execution_count": 8,
   "metadata": {
    "pycharm": {
     "is_executing": false,
     "name": "#%%\n"
    }
   },
   "outputs": [],
   "source": [
    "train = train_data[:-500]\n",
    "test = train_data[-500:]\n",
    "\n"
   ]
  },
  {
   "cell_type": "code",
   "execution_count": 9,
   "metadata": {
    "pycharm": {
     "is_executing": false,
     "name": "#%%\n"
    }
   },
   "outputs": [],
   "source": [
    "X = np.array([i[0] for i in train]).reshape(-1, IMG_SIZE, IMG_SIZE, 1)\n",
    "Y = [i[1] for i in train]\n",
    "\n",
    "test_x = np.array([i[0] for i in test]).reshape(-1, IMG_SIZE, IMG_SIZE, 1)\n",
    "test_y = [i[1] for i in test]"
   ]
  },
  {
   "cell_type": "code",
   "execution_count": 10,
   "metadata": {
    "pycharm": {
     "is_executing": false,
     "name": "#%%\n"
    }
   },
   "outputs": [
    {
     "name": "stdout",
     "text": [
      "Training Step: 3829  | total loss: \u001b[1m\u001b[32m0.37800\u001b[0m\u001b[0m | time: 4.256s\n\u001b[2K\r| Adam | epoch: 010 | loss: 0.37800 - acc: 0.8171 -- iter: 24448/24500\n",
      "Training Step: 3830  | total loss: \u001b[1m\u001b[32m0.38945\u001b[0m\u001b[0m | time: 5.267s\n\u001b[2K\r| Adam | epoch: 010 | loss: 0.38945 - acc: 0.8104 | val_loss: 0.44003 - val_acc: 0.8140 -- iter: 24500/24500\n--\n"
     ],
     "output_type": "stream"
    }
   ],
   "source": [
    "# Train the network\n",
    "model.fit({'input': X}, {'targets': Y}, n_epoch=10, validation_set=({'input': test_x}, {'targets': test_y}), \n",
    "    snapshot_step=500, show_metric=True, run_id=MODEL_NAME)\n",
    "# tensorboard --logdir=\"C:\\Users\\djenz\\OneDrive - University of Vermont\\Machine-Learning-Final-Project\\CNN TUT\\log\""
   ]
  },
  {
   "cell_type": "code",
   "execution_count": 11,
   "metadata": {
    "pycharm": {
     "is_executing": false,
     "name": "#%%\n"
    }
   },
   "outputs": [
    {
     "name": "stdout",
     "text": [
      "INFO:tensorflow:C:\\Users\\djenz\\OneDrive - University of Vermont\\Machine-Learning-Final-Project\\CNN TUT\\dogsvcats-0.001-6conv-basic-video.model is not in all_model_checkpoint_paths. Manually adding it.\n"
     ],
     "output_type": "stream"
    }
   ],
   "source": [
    "model.save(MODEL_NAME)\n"
   ]
  },
  {
   "cell_type": "code",
   "execution_count": 15,
   "metadata": {
    "pycharm": {
     "is_executing": false,
     "name": "#%%\n"
    }
   },
   "outputs": [
    {
     "data": {
      "text/plain": "<Figure size 432x288 with 12 Axes>",
      "image/png": "[encoded data removed]"
     },
     "metadata": {
      "needs_background": "light"
     },
     "output_type": "display_data"
    }
   ],
   "source": [
    "import matplotlib.pyplot as plt\n",
    "\n",
    "# if you don't have this file yet\n",
    "#test_data = process_test_data()\n",
    "#if you already have it\n",
    "test_data = np.load('test_data.npy', allow_pickle=True)\n",
    "\n",
    "fig = plt.figure()\n",
    "\n",
    "for num, data in enumerate(test_data[:12]):\n",
    "    # cat : [1,0]\n",
    "    # dog : [0,1]\n",
    "    \n",
    "    img_num = data[1]\n",
    "    img_data = data[0]\n",
    "    \n",
    "    y = fig.add_subplot(3,4,num+1)\n",
    "    orig = img_data\n",
    "    data = img_data.reshape(IMG_SIZE,IMG_SIZE,1)\n",
    "    \n",
    "    model_out = model.predict([data])[0]\n",
    "    \n",
    "    if np.argmax(model_out) == 1: str_label=\"Dog\"\n",
    "    else: str_label=\"Cat\"\n",
    "    \n",
    "    y.imshow(orig, cmap='gray')\n",
    "    plt.title(str_label)\n",
    "    y.axes.get_xaxis().set_visible(False)\n",
    "    y.axes.get_yaxis().set_visible(False)\n",
    "plt.show()\n",
    "    "
   ]
  },
  {
   "cell_type": "code",
   "execution_count": 13,
   "metadata": {
    "pycharm": {
     "is_executing": false,
     "name": "#%%\n"
    }
   },
   "outputs": [],
   "source": [
    "with open('submission-file.csv','w') as f:\n",
    "    f.write('id,label\\n')\n",
    "\n"
   ]
  },
  {
   "cell_type": "code",
   "execution_count": 14,
   "metadata": {
    "pycharm": {
     "is_executing": false,
     "name": "#%%\n"
    }
   },
   "outputs": [
    {
     "name": "stderr",
     "text": [
      "\r  0%|          | 0/12500 [00:00<?, ?it/s]",
      "\r  1%|          | 97/12500 [00:00<00:12, 969.21it/s]",
      "\r  2%|▏         | 192/12500 [00:00<00:12, 963.12it/s]",
      "\r  2%|▏         | 295/12500 [00:00<00:12, 982.03it/s]",
      "\r  3%|▎         | 395/12500 [00:00<00:12, 987.11it/s]",
      "\r  4%|▍         | 499/12500 [00:00<00:11, 1002.17it/s]",
      "\r  5%|▍         | 602/12500 [00:00<00:11, 1010.11it/s]",
      "\r  6%|▌         | 693/12500 [00:00<00:12, 977.58it/s] ",
      "\r  6%|▋         | 793/12500 [00:00<00:11, 983.96it/s]",
      "\r  7%|▋         | 899/12500 [00:00<00:11, 1005.37it/s]",
      "\r  8%|▊         | 996/12500 [00:01<00:11, 958.83it/s] ",
      "\r  9%|▉         | 1095/12500 [00:01<00:11, 964.91it/s]",
      "\r 10%|▉         | 1191/12500 [00:01<00:11, 963.20it/s]",
      "\r 10%|█         | 1287/12500 [00:01<00:11, 939.39it/s]",
      "\r 11%|█         | 1381/12500 [00:01<00:12, 922.73it/s]",
      "\r 12%|█▏        | 1473/12500 [00:01<00:12, 887.00it/s]",
      "\r 12%|█▏        | 1562/12500 [00:01<00:12, 885.03it/s]",
      "\r 13%|█▎        | 1651/12500 [00:01<00:12, 878.42it/s]",
      "\r 14%|█▍        | 1751/12500 [00:01<00:11, 911.47it/s]",
      "\r 15%|█▍        | 1852/12500 [00:01<00:11, 938.73it/s]",
      "\r 16%|█▌        | 1947/12500 [00:02<00:11, 909.37it/s]",
      "\r 16%|█▋        | 2041/12500 [00:02<00:11, 918.13it/s]",
      "\r 17%|█▋        | 2134/12500 [00:02<00:11, 905.28it/s]",
      "\r 18%|█▊        | 2227/12500 [00:02<00:11, 912.33it/s]",
      "\r 19%|█▊        | 2325/12500 [00:02<00:10, 931.41it/s]",
      "\r 19%|█▉        | 2427/12500 [00:02<00:10, 956.11it/s]",
      "\r 20%|██        | 2523/12500 [00:02<00:10, 951.34it/s]",
      "\r 21%|██        | 2624/12500 [00:02<00:10, 967.99it/s]",
      "\r 22%|██▏       | 2726/12500 [00:02<00:09, 982.79it/s]",
      "\r 23%|██▎       | 2825/12500 [00:02<00:10, 961.73it/s]",
      "\r 23%|██▎       | 2922/12500 [00:03<00:10, 953.97it/s]",
      "\r 24%|██▍       | 3018/12500 [00:03<00:09, 949.86it/s]",
      "\r 25%|██▍       | 3114/12500 [00:03<00:09, 938.67it/s]",
      "\r 26%|██▌       | 3215/12500 [00:03<00:09, 958.76it/s]",
      "\r 27%|██▋       | 3316/12500 [00:03<00:09, 973.35it/s]",
      "\r 27%|██▋       | 3414/12500 [00:03<00:09, 953.55it/s]",
      "\r 28%|██▊       | 3510/12500 [00:03<00:09, 955.24it/s]",
      "\r 29%|██▉       | 3606/12500 [00:03<00:09, 956.43it/s]",
      "\r 30%|██▉       | 3705/12500 [00:03<00:09, 966.03it/s]",
      "\r 30%|███       | 3802/12500 [00:03<00:09, 961.23it/s]",
      "\r 31%|███       | 3899/12500 [00:04<00:09, 949.45it/s]",
      "\r 32%|███▏      | 3995/12500 [00:04<00:09, 943.92it/s]",
      "\r 33%|███▎      | 4091/12500 [00:04<00:08, 948.46it/s]",
      "\r 34%|███▎      | 4193/12500 [00:04<00:08, 968.62it/s]",
      "\r 34%|███▍      | 4291/12500 [00:04<00:08, 957.51it/s]",
      "\r 35%|███▌      | 4394/12500 [00:04<00:08, 977.94it/s]",
      "\r 36%|███▌      | 4492/12500 [00:04<00:08, 963.87it/s]",
      "\r 37%|███▋      | 4590/12500 [00:04<00:08, 968.42it/s]",
      "\r 38%|███▊      | 4689/12500 [00:04<00:08, 974.56it/s]",
      "\r 38%|███▊      | 4787/12500 [00:05<00:07, 970.14it/s]",
      "\r 39%|███▉      | 4885/12500 [00:05<00:08, 939.25it/s]",
      "\r 40%|███▉      | 4980/12500 [00:05<00:08, 936.64it/s]",
      "\r 41%|████      | 5075/12500 [00:05<00:07, 937.59it/s]",
      "\r 41%|████▏     | 5172/12500 [00:05<00:07, 946.03it/s]",
      "\r 42%|████▏     | 5272/12500 [00:05<00:07, 961.14it/s]",
      "\r 43%|████▎     | 5373/12500 [00:05<00:07, 975.05it/s]",
      "\r 44%|████▍     | 5471/12500 [00:05<00:07, 937.05it/s]",
      "\r 45%|████▍     | 5571/12500 [00:05<00:07, 954.86it/s]",
      "\r 45%|████▌     | 5672/12500 [00:05<00:07, 970.53it/s]",
      "\r 46%|████▌     | 5770/12500 [00:06<00:07, 918.36it/s]",
      "\r 47%|████▋     | 5863/12500 [00:06<00:07, 918.86it/s]",
      "\r 48%|████▊     | 5963/12500 [00:06<00:06, 941.57it/s]",
      "\r 48%|████▊     | 6060/12500 [00:06<00:06, 949.69it/s]",
      "\r 49%|████▉     | 6156/12500 [00:06<00:06, 949.70it/s]",
      "\r 50%|█████     | 6258/12500 [00:06<00:06, 969.52it/s]",
      "\r 51%|█████     | 6359/12500 [00:06<00:06, 981.09it/s]",
      "\r 52%|█████▏    | 6458/12500 [00:06<00:06, 977.67it/s]",
      "\r 52%|█████▏    | 6558/12500 [00:06<00:06, 984.03it/s]",
      "\r 53%|█████▎    | 6657/12500 [00:06<00:06, 968.21it/s]",
      "\r 54%|█████▍    | 6754/12500 [00:07<00:06, 957.03it/s]",
      "\r 55%|█████▍    | 6850/12500 [00:07<00:05, 954.83it/s]",
      "\r 56%|█████▌    | 6947/12500 [00:07<00:05, 959.09it/s]",
      "\r 56%|█████▋    | 7044/12500 [00:07<00:05, 962.11it/s]",
      "\r 57%|█████▋    | 7143/12500 [00:07<00:05, 970.07it/s]",
      "\r 58%|█████▊    | 7244/12500 [00:07<00:05, 981.48it/s]",
      "\r 59%|█████▊    | 7343/12500 [00:07<00:05, 960.85it/s]",
      "\r 60%|█████▉    | 7442/12500 [00:07<00:05, 969.18it/s]",
      "\r 60%|██████    | 7546/12500 [00:07<00:05, 989.16it/s]",
      "\r 61%|██████    | 7646/12500 [00:08<00:05, 947.01it/s]",
      "\r 62%|██████▏   | 7742/12500 [00:08<00:05, 942.24it/s]",
      "\r 63%|██████▎   | 7837/12500 [00:08<00:04, 941.51it/s]",
      "\r 63%|██████▎   | 7932/12500 [00:08<00:04, 938.21it/s]",
      "\r 64%|██████▍   | 8027/12500 [00:08<00:04, 930.42it/s]",
      "\r 65%|██████▍   | 8121/12500 [00:08<00:04, 933.04it/s]",
      "\r 66%|██████▌   | 8215/12500 [00:08<00:04, 932.11it/s]",
      "\r 66%|██████▋   | 8311/12500 [00:08<00:04, 940.08it/s]",
      "\r 67%|██████▋   | 8412/12500 [00:08<00:04, 959.79it/s]",
      "\r 68%|██████▊   | 8515/12500 [00:08<00:04, 979.60it/s]",
      "\r 69%|██████▉   | 8614/12500 [00:09<00:04, 951.28it/s]",
      "\r 70%|██████▉   | 8710/12500 [00:09<00:03, 947.99it/s]",
      "\r 70%|███████   | 8806/12500 [00:09<00:03, 951.33it/s]",
      "\r 71%|███████   | 8902/12500 [00:09<00:03, 942.44it/s]",
      "\r 72%|███████▏  | 9000/12500 [00:09<00:03, 953.17it/s]",
      "\r 73%|███████▎  | 9100/12500 [00:09<00:03, 966.53it/s]",
      "\r 74%|███████▎  | 9201/12500 [00:09<00:03, 978.94it/s]",
      "\r 74%|███████▍  | 9300/12500 [00:09<00:03, 961.94it/s]",
      "\r 75%|███████▌  | 9400/12500 [00:09<00:03, 972.82it/s]",
      "\r 76%|███████▌  | 9498/12500 [00:09<00:03, 974.72it/s]",
      "\r 77%|███████▋  | 9596/12500 [00:10<00:03, 950.48it/s]",
      "\r 78%|███████▊  | 9692/12500 [00:10<00:02, 936.34it/s]",
      "\r 78%|███████▊  | 9789/12500 [00:10<00:02, 945.96it/s]",
      "\r 79%|███████▉  | 9886/12500 [00:10<00:02, 952.82it/s]",
      "\r 80%|███████▉  | 9982/12500 [00:10<00:02, 949.06it/s]",
      "\r 81%|████████  | 10082/12500 [00:10<00:02, 963.56it/s]",
      "\r 81%|████████▏ | 10181/12500 [00:10<00:02, 971.11it/s]",
      "\r 82%|████████▏ | 10279/12500 [00:10<00:02, 959.22it/s]",
      "\r 83%|████████▎ | 10380/12500 [00:10<00:02, 973.68it/s]",
      "\r 84%|████████▍ | 10478/12500 [00:10<00:02, 966.66it/s]",
      "\r 85%|████████▍ | 10575/12500 [00:11<00:02, 933.86it/s]",
      "\r 85%|████████▌ | 10669/12500 [00:11<00:02, 885.21it/s]",
      "\r 86%|████████▌ | 10762/12500 [00:11<00:01, 897.98it/s]",
      "\r 87%|████████▋ | 10859/12500 [00:11<00:01, 915.16it/s]",
      "\r 88%|████████▊ | 10953/12500 [00:11<00:01, 920.63it/s]",
      "\r 88%|████████▊ | 11052/12500 [00:11<00:01, 940.18it/s]",
      "\r 89%|████████▉ | 11152/12500 [00:11<00:01, 957.13it/s]",
      "\r 90%|████████▉ | 11249/12500 [00:11<00:01, 955.04it/s]",
      "\r 91%|█████████ | 11349/12500 [00:11<00:01, 967.87it/s]",
      "\r 92%|█████████▏| 11446/12500 [00:12<00:01, 953.97it/s]",
      "\r 92%|█████████▏| 11542/12500 [00:12<00:01, 944.25it/s]",
      "\r 93%|█████████▎| 11639/12500 [00:12<00:00, 950.19it/s]",
      "\r 94%|█████████▍| 11735/12500 [00:12<00:00, 952.88it/s]",
      "\r 95%|█████████▍| 11831/12500 [00:12<00:00, 949.10it/s]",
      "\r 95%|█████████▌| 11930/12500 [00:12<00:00, 960.78it/s]",
      "\r 96%|█████████▌| 12031/12500 [00:12<00:00, 972.79it/s]",
      "\r 97%|█████████▋| 12129/12500 [00:12<00:00, 963.20it/s]",
      "\r 98%|█████████▊| 12230/12500 [00:12<00:00, 976.55it/s]",
      "\r 99%|█████████▊| 12329/12500 [00:12<00:00, 977.40it/s]",
      "\r 99%|█████████▉| 12427/12500 [00:13<00:00, 949.49it/s]",
      "\r100%|██████████| 12500/12500 [00:13<00:00, 953.39it/s]",
      "\n"
     ],
     "output_type": "stream"
    }
   ],
   "source": [
    "with open('submission-file.csv','a') as f:\n",
    "    for data in tqdm(test_data):\n",
    "        img_num = data[1]\n",
    "        img_data = data[0]\n",
    "        orig = img_data\n",
    "        data = img_data.reshape(IMG_SIZE,IMG_SIZE,1)\n",
    "        model_out = model.predict([data])[0]\n",
    "        f.write('{},{}\\n'.format(img_num, model_out[1]))\n",
    "        \n",
    "        \n",
    "\n"
   ]
  },
  {
   "cell_type": "code",
   "execution_count": 14,
   "metadata": {
    "pycharm": {
     "name": "#%%\n",
     "is_executing": false
    }
   },
   "outputs": [],
   "source": [
    "\n"
   ]
  }
 ],
 "metadata": {
  "kernelspec": {
   "display_name": "Python 3",
   "language": "python",
   "name": "python3"
  },
  "language_info": {
   "codemirror_mode": {
    "name": "ipython",
    "version": 3
   },
   "file_extension": ".py",
   "mimetype": "text/x-python",
   "name": "python",
   "nbconvert_exporter": "python",
   "pygments_lexer": "ipython3",
   "version": "3.7.3"
  },
  "pycharm": {
   "stem_cell": {
    "cell_type": "raw",
    "metadata": {
     "collapsed": false
    },
    "source": []
   }
  }
 },
 "nbformat": 4,
 "nbformat_minor": 1
}