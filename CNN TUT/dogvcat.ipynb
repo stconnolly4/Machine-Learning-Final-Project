{
 "cells": [
  {
   "cell_type": "code",
   "execution_count": 1,
   "metadata": {
    "collapsed": true,
    "pycharm": {
     "is_executing": false
    }
   },
   "outputs": [],
   "source": [
    "import cv2\n",
    "import numpy as np\n",
    "import os\n",
    "from random import shuffle\n",
    "from tqdm import tqdm\n",
    "\n",
    "TRAIN_DIR = 'dogsvcats/train'\n",
    "TEST_DIR = 'dogsvcats/test'\n",
    "IMG_SIZE = 50\n",
    "LR = 1e-3\n",
    "\n",
    "MODEL_NAME = 'dogsvcats-{}-{}.model'.format(LR, '6conv-basic-video')"
   ]
  },
  {
   "cell_type": "code",
   "execution_count": 2,
   "outputs": [],
   "source": [
    "def label_img(img):\n",
    "    word_label = img.split('.')[-3]\n",
    "    if word_label == 'cat' : return [1,0]\n",
    "    elif word_label == 'dog' : return [0,1]"
   ],
   "metadata": {
    "collapsed": false,
    "pycharm": {
     "name": "#%%\n",
     "is_executing": false
    }
   }
  },
  {
   "cell_type": "code",
   "execution_count": 3,
   "outputs": [],
   "source": [
    "def create_train_data():\n",
    "    training_data = []\n",
    "    for img in tqdm(os.listdir(TRAIN_DIR)):\n",
    "        label = label_img(img)\n",
    "        path = os.path.join(TRAIN_DIR, img)\n",
    "        img = cv2.resize(cv2.imread(path, cv2.IMREAD_GRAYSCALE),(IMG_SIZE, IMG_SIZE))\n",
    "        training_data.append([np.array(img), np.array(label)])\n",
    "    shuffle(training_data)\n",
    "    np.save('train_data.npy', training_data)\n",
    "    return training_data\n",
    "        "
   ],
   "metadata": {
    "collapsed": false,
    "pycharm": {
     "name": "#%%\n",
     "is_executing": false
    }
   }
  },
  {
   "cell_type": "code",
   "execution_count": 4,
   "outputs": [],
   "source": [
    "def process_test_data():\n",
    "    testing_data = []\n",
    "    for img in tqdm(os.listdir(TEST_DIR)):\n",
    "        path = os.path.join(TEST_DIR,img)\n",
    "        img_num = img.split('.')[0]\n",
    "        img = cv2.resize(cv2.imread(path, cv2.IMREAD_GRAYSCALE), (IMG_SIZE, IMG_SIZE))\n",
    "        testing_data.append([np.array(img), img_num])\n",
    "    \n",
    "    np.save('test_data.npy', testing_data)\n",
    "    return testing_data\n",
    "\n"
   ],
   "metadata": {
    "collapsed": false,
    "pycharm": {
     "name": "#%%\n",
     "is_executing": false
    }
   }
  },
  {
   "cell_type": "code",
   "execution_count": 5,
   "outputs": [
    {
     "name": "stderr",
     "text": [
      "\r  0%|          | 0/25000 [00:00<?, ?it/s]",
      "\r  1%|          | 149/25000 [00:00<00:16, 1488.81it/s]",
      "\r  1%|          | 296/25000 [00:00<00:16, 1482.74it/s]",
      "\r  2%|▏         | 429/25000 [00:00<00:17, 1432.98it/s]",
      "\r  2%|▏         | 576/25000 [00:00<00:16, 1443.54it/s]",
      "\r  3%|▎         | 725/25000 [00:00<00:16, 1456.82it/s]",
      "\r  4%|▎         | 876/25000 [00:00<00:16, 1472.02it/s]",
      "\r  4%|▍         | 1006/25000 [00:00<00:17, 1383.78it/s]",
      "\r  5%|▍         | 1151/25000 [00:00<00:17, 1402.67it/s]",
      "\r  5%|▌         | 1302/25000 [00:00<00:16, 1432.90it/s]",
      "\r  6%|▌         | 1453/25000 [00:01<00:16, 1454.84it/s]",
      "\r  6%|▋         | 1595/25000 [00:01<00:16, 1380.63it/s]",
      "\r  7%|▋         | 1748/25000 [00:01<00:16, 1421.96it/s]",
      "\r  8%|▊         | 1897/25000 [00:01<00:16, 1441.37it/s]",
      "\r  8%|▊         | 2041/25000 [00:01<00:16, 1427.74it/s]",
      "\r  9%|▉         | 2191/25000 [00:01<00:15, 1448.33it/s]",
      "\r  9%|▉         | 2339/25000 [00:01<00:15, 1457.34it/s]",
      "\r 10%|▉         | 2486/25000 [00:01<00:15, 1460.76it/s]",
      "\r 11%|█         | 2632/25000 [00:01<00:15, 1442.84it/s]",
      "\r 11%|█         | 2777/25000 [00:01<00:15, 1444.63it/s]",
      "\r 12%|█▏        | 2924/25000 [00:02<00:15, 1451.80it/s]",
      "\r 12%|█▏        | 3076/25000 [00:02<00:14, 1471.25it/s]",
      "\r 13%|█▎        | 3224/25000 [00:02<00:14, 1451.81it/s]",
      "\r 14%|█▎        | 3377/25000 [00:02<00:14, 1474.07it/s]",
      "\r 14%|█▍        | 3528/25000 [00:02<00:14, 1484.31it/s]",
      "\r 15%|█▍        | 3677/25000 [00:02<00:14, 1485.65it/s]",
      "\r 15%|█▌        | 3826/25000 [00:02<00:14, 1443.35it/s]",
      "\r 16%|█▌        | 3975/25000 [00:02<00:14, 1456.69it/s]",
      "\r 17%|█▋        | 4128/25000 [00:02<00:14, 1477.58it/s]",
      "\r 17%|█▋        | 4278/25000 [00:02<00:13, 1483.88it/s]",
      "\r 18%|█▊        | 4427/25000 [00:03<00:14, 1442.18it/s]",
      "\r 18%|█▊        | 4578/25000 [00:03<00:13, 1461.53it/s]",
      "\r 19%|█▉        | 4726/25000 [00:03<00:13, 1466.67it/s]",
      "\r 19%|█▉        | 4873/25000 [00:03<00:13, 1462.92it/s]",
      "\r 20%|██        | 5023/25000 [00:03<00:13, 1473.50it/s]",
      "\r 21%|██        | 5179/25000 [00:03<00:13, 1498.07it/s]",
      "\r 21%|██▏       | 5330/25000 [00:03<00:13, 1479.18it/s]",
      "\r 22%|██▏       | 5479/25000 [00:03<00:13, 1468.89it/s]",
      "\r 23%|██▎       | 5637/25000 [00:03<00:12, 1500.20it/s]",
      "\r 23%|██▎       | 5788/25000 [00:03<00:12, 1493.83it/s]",
      "\r 24%|██▍       | 5938/25000 [00:04<00:12, 1490.85it/s]",
      "\r 24%|██▍       | 6088/25000 [00:04<00:12, 1488.77it/s]",
      "\r 25%|██▍       | 6237/25000 [00:04<00:12, 1488.77it/s]",
      "\r 26%|██▌       | 6387/25000 [00:04<00:12, 1491.76it/s]",
      "\r 26%|██▌       | 6537/25000 [00:04<00:12, 1489.40it/s]",
      "\r 27%|██▋       | 6686/25000 [00:04<00:12, 1489.22it/s]",
      "\r 27%|██▋       | 6848/25000 [00:04<00:11, 1525.83it/s]",
      "\r 28%|██▊       | 7001/25000 [00:04<00:11, 1508.62it/s]",
      "\r 29%|██▊       | 7153/25000 [00:04<00:11, 1498.23it/s]",
      "\r 29%|██▉       | 7303/25000 [00:04<00:11, 1485.03it/s]",
      "\r 30%|██▉       | 7452/25000 [00:05<00:11, 1472.92it/s]",
      "\r 30%|███       | 7603/25000 [00:05<00:11, 1483.50it/s]",
      "\r 31%|███       | 7752/25000 [00:05<00:11, 1450.36it/s]",
      "\r 32%|███▏      | 7904/25000 [00:05<00:11, 1470.22it/s]",
      "\r 32%|███▏      | 8052/25000 [00:05<00:11, 1472.78it/s]",
      "\r 33%|███▎      | 8200/25000 [00:05<00:11, 1470.18it/s]",
      "\r 33%|███▎      | 8348/25000 [00:05<00:11, 1468.37it/s]",
      "\r 34%|███▍      | 8495/25000 [00:05<00:11, 1464.10it/s]",
      "\r 35%|███▍      | 8642/25000 [00:05<00:11, 1456.79it/s]",
      "\r 35%|███▌      | 8791/25000 [00:05<00:11, 1466.24it/s]",
      "\r 36%|███▌      | 8941/25000 [00:06<00:10, 1475.85it/s]",
      "\r 36%|███▋      | 9089/25000 [00:06<00:11, 1437.96it/s]",
      "\r 37%|███▋      | 9237/25000 [00:06<00:10, 1449.97it/s]",
      "\r 38%|███▊      | 9388/25000 [00:06<00:10, 1467.12it/s]",
      "\r 38%|███▊      | 9538/25000 [00:06<00:10, 1476.48it/s]",
      "\r 39%|███▊      | 9686/25000 [00:06<00:10, 1409.59it/s]",
      "\r 39%|███▉      | 9832/25000 [00:06<00:10, 1424.00it/s]",
      "\r 40%|███▉      | 9985/25000 [00:06<00:10, 1453.88it/s]",
      "\r 41%|████      | 10131/25000 [00:06<00:10, 1446.70it/s]",
      "\r 41%|████      | 10277/25000 [00:07<00:10, 1433.21it/s]",
      "\r 42%|████▏     | 10429/25000 [00:07<00:09, 1457.85it/s]",
      "\r 42%|████▏     | 10576/25000 [00:07<00:09, 1461.12it/s]",
      "\r 43%|████▎     | 10723/25000 [00:07<00:09, 1454.71it/s]",
      "\r 44%|████▎     | 10879/25000 [00:07<00:09, 1484.43it/s]",
      "\r 44%|████▍     | 11032/25000 [00:07<00:09, 1497.46it/s]",
      "\r 45%|████▍     | 11182/25000 [00:07<00:09, 1458.50it/s]",
      "\r 45%|████▌     | 11329/25000 [00:07<00:09, 1461.57it/s]",
      "\r 46%|████▌     | 11480/25000 [00:07<00:09, 1475.42it/s]",
      "\r 47%|████▋     | 11630/25000 [00:07<00:09, 1482.35it/s]",
      "\r 47%|████▋     | 11779/25000 [00:08<00:09, 1441.17it/s]",
      "\r 48%|████▊     | 11937/25000 [00:08<00:08, 1479.85it/s]",
      "\r 48%|████▊     | 12091/25000 [00:08<00:08, 1497.04it/s]",
      "\r 49%|████▉     | 12242/25000 [00:08<00:08, 1474.15it/s]",
      "\r 50%|████▉     | 12390/25000 [00:08<00:08, 1466.76it/s]",
      "\r 50%|█████     | 12537/25000 [00:08<00:08, 1462.98it/s]",
      "\r 51%|█████     | 12684/25000 [00:08<00:08, 1422.18it/s]",
      "\r 51%|█████▏    | 12827/25000 [00:08<00:08, 1415.70it/s]",
      "\r 52%|█████▏    | 12969/25000 [00:08<00:08, 1395.74it/s]",
      "\r 52%|█████▏    | 13109/25000 [00:08<00:08, 1384.23it/s]",
      "\r 53%|█████▎    | 13248/25000 [00:09<00:08, 1349.27it/s]",
      "\r 54%|█████▎    | 13384/25000 [00:09<00:08, 1344.12it/s]",
      "\r 54%|█████▍    | 13519/25000 [00:09<00:08, 1337.54it/s]",
      "\r 55%|█████▍    | 13653/25000 [00:09<00:08, 1322.10it/s]",
      "\r 55%|█████▌    | 13786/25000 [00:09<00:08, 1316.27it/s]",
      "\r 56%|█████▌    | 13918/25000 [00:09<00:08, 1317.06it/s]",
      "\r 56%|█████▌    | 14050/25000 [00:09<00:08, 1257.33it/s]",
      "\r 57%|█████▋    | 14189/25000 [00:09<00:08, 1294.10it/s]",
      "\r 57%|█████▋    | 14328/25000 [00:09<00:08, 1321.14it/s]",
      "\r 58%|█████▊    | 14466/25000 [00:10<00:07, 1337.95it/s]",
      "\r 58%|█████▊    | 14601/25000 [00:10<00:07, 1321.50it/s]",
      "\r 59%|█████▉    | 14742/25000 [00:10<00:07, 1346.55it/s]",
      "\r 60%|█████▉    | 14880/25000 [00:10<00:07, 1356.08it/s]",
      "\r 60%|██████    | 15016/25000 [00:10<00:07, 1348.84it/s]",
      "\r 61%|██████    | 15157/25000 [00:10<00:07, 1366.30it/s]",
      "\r 61%|██████    | 15301/25000 [00:10<00:06, 1387.28it/s]",
      "\r 62%|██████▏   | 15450/25000 [00:10<00:06, 1416.24it/s]",
      "\r 62%|██████▏   | 15592/25000 [00:10<00:07, 1307.35it/s]",
      "\r 63%|██████▎   | 15735/25000 [00:10<00:06, 1341.57it/s]",
      "\r 64%|██████▎   | 15882/25000 [00:11<00:06, 1377.36it/s]",
      "\r 64%|██████▍   | 16022/25000 [00:11<00:06, 1379.65it/s]",
      "\r 65%|██████▍   | 16161/25000 [00:11<00:06, 1350.15it/s]",
      "\r 65%|██████▌   | 16297/25000 [00:11<00:06, 1352.76it/s]",
      "\r 66%|██████▌   | 16433/25000 [00:11<00:06, 1330.71it/s]",
      "\r 66%|██████▋   | 16567/25000 [00:11<00:06, 1321.32it/s]",
      "\r 67%|██████▋   | 16709/25000 [00:11<00:06, 1349.14it/s]",
      "\r 67%|██████▋   | 16845/25000 [00:11<00:06, 1340.05it/s]",
      "\r 68%|██████▊   | 16984/25000 [00:11<00:05, 1354.33it/s]",
      "\r 69%|██████▊   | 17132/25000 [00:11<00:05, 1389.41it/s]",
      "\r 69%|██████▉   | 17272/25000 [00:12<00:05, 1383.96it/s]",
      "\r 70%|██████▉   | 17414/25000 [00:12<00:05, 1394.25it/s]",
      "\r 70%|███████   | 17555/25000 [00:12<00:05, 1398.60it/s]",
      "\r 71%|███████   | 17696/25000 [00:12<00:05, 1397.49it/s]",
      "\r 71%|███████▏  | 17840/25000 [00:12<00:05, 1409.64it/s]",
      "\r 72%|███████▏  | 17982/25000 [00:12<00:04, 1408.18it/s]",
      "\r 72%|███████▏  | 18123/25000 [00:12<00:05, 1347.75it/s]",
      "\r 73%|███████▎  | 18268/25000 [00:12<00:04, 1376.56it/s]",
      "\r 74%|███████▎  | 18407/25000 [00:12<00:04, 1363.96it/s]",
      "\r 74%|███████▍  | 18553/25000 [00:12<00:04, 1391.10it/s]",
      "\r 75%|███████▍  | 18693/25000 [00:13<00:04, 1393.41it/s]",
      "\r 75%|███████▌  | 18834/25000 [00:13<00:04, 1398.01it/s]",
      "\r 76%|███████▌  | 18977/25000 [00:13<00:04, 1407.11it/s]",
      "\r 76%|███████▋  | 19118/25000 [00:13<00:04, 1370.66it/s]",
      "\r 77%|███████▋  | 19258/25000 [00:13<00:04, 1379.00it/s]",
      "\r 78%|███████▊  | 19397/25000 [00:13<00:04, 1369.68it/s]",
      "\r 78%|███████▊  | 19540/25000 [00:13<00:03, 1386.91it/s]",
      "\r 79%|███████▊  | 19683/25000 [00:13<00:03, 1399.22it/s]",
      "\r 79%|███████▉  | 19824/25000 [00:13<00:03, 1402.09it/s]",
      "\r 80%|███████▉  | 19967/25000 [00:14<00:03, 1410.01it/s]",
      "\r 80%|████████  | 20109/25000 [00:14<00:03, 1352.07it/s]",
      "\r 81%|████████  | 20252/25000 [00:14<00:03, 1374.22it/s]",
      "\r 82%|████████▏ | 20396/25000 [00:14<00:03, 1392.98it/s]",
      "\r 82%|████████▏ | 20537/25000 [00:14<00:03, 1397.70it/s]",
      "\r 83%|████████▎ | 20678/25000 [00:14<00:03, 1333.40it/s]",
      "\r 83%|████████▎ | 20822/25000 [00:14<00:03, 1363.37it/s]",
      "\r 84%|████████▍ | 20967/25000 [00:14<00:02, 1387.93it/s]",
      "\r 84%|████████▍ | 21107/25000 [00:14<00:02, 1374.78it/s]",
      "\r 85%|████████▌ | 21256/25000 [00:14<00:02, 1407.11it/s]",
      "\r 86%|████████▌ | 21400/25000 [00:15<00:02, 1416.47it/s]",
      "\r 86%|████████▌ | 21543/25000 [00:15<00:02, 1415.94it/s]",
      "\r 87%|████████▋ | 21685/25000 [00:15<00:02, 1355.88it/s]",
      "\r 87%|████████▋ | 21822/25000 [00:15<00:02, 1351.70it/s]",
      "\r 88%|████████▊ | 21959/25000 [00:15<00:02, 1356.81it/s]",
      "\r 88%|████████▊ | 22098/25000 [00:15<00:02, 1366.27it/s]",
      "\r 89%|████████▉ | 22243/25000 [00:15<00:01, 1390.03it/s]",
      "\r 90%|████████▉ | 22393/25000 [00:15<00:01, 1420.96it/s]",
      "\r 90%|█████████ | 22536/25000 [00:15<00:01, 1419.07it/s]",
      "\r 91%|█████████ | 22679/25000 [00:15<00:01, 1364.92it/s]",
      "\r 91%|█████████▏| 22821/25000 [00:16<00:01, 1380.65it/s]",
      "\r 92%|█████████▏| 22960/25000 [00:16<00:01, 1373.87it/s]",
      "\r 92%|█████████▏| 23098/25000 [00:16<00:01, 1367.19it/s]",
      "\r 93%|█████████▎| 23239/25000 [00:16<00:01, 1379.42it/s]",
      "\r 94%|█████████▎| 23378/25000 [00:16<00:01, 1382.24it/s]",
      "\r 94%|█████████▍| 23517/25000 [00:16<00:01, 1376.00it/s]",
      "\r 95%|█████████▍| 23655/25000 [00:16<00:00, 1376.86it/s]",
      "\r 95%|█████████▌| 23793/25000 [00:16<00:00, 1373.35it/s]",
      "\r 96%|█████████▌| 23931/25000 [00:16<00:00, 1366.82it/s]",
      "\r 96%|█████████▋| 24071/25000 [00:16<00:00, 1376.28it/s]",
      "\r 97%|█████████▋| 24212/25000 [00:17<00:00, 1385.89it/s]",
      "\r 97%|█████████▋| 24352/25000 [00:17<00:00, 1389.75it/s]",
      "\r 98%|█████████▊| 24492/25000 [00:17<00:00, 1344.30it/s]",
      "\r 99%|█████████▊| 24630/25000 [00:17<00:00, 1354.48it/s]",
      "\r 99%|█████████▉| 24766/25000 [00:17<00:00, 1351.76it/s]",
      "\r100%|█████████▉| 24904/25000 [00:17<00:00, 1359.78it/s]",
      "\r100%|██████████| 25000/25000 [00:17<00:00, 1414.05it/s]",
      "\n"
     ],
     "output_type": "stream"
    }
   ],
   "source": [
    "train_data = create_train_data()\n",
    "# if already have trained data\n",
    "# train_data = np.load('train_data.npy')\n",
    "\n"
   ],
   "metadata": {
    "collapsed": false,
    "pycharm": {
     "name": "#%%\n",
     "is_executing": false
    }
   }
  },
  {
   "cell_type": "code",
   "execution_count": 6,
   "outputs": [
    {
     "name": "stdout",
     "text": [
      "curses is not supported on this machine (please install/reinstall curses for an optimal experience)\nWARNING:tensorflow:From c:\\users\\djenz\\appdata\\local\\programs\\python\\python37\\lib\\site-packages\\tflearn\\helpers\\summarizer.py:9: The name tf.summary.merge is deprecated. Please use tf.compat.v1.summary.merge instead.\n\n",
      "WARNING:tensorflow:From c:\\users\\djenz\\appdata\\local\\programs\\python\\python37\\lib\\site-packages\\tflearn\\helpers\\trainer.py:25: The name tf.summary.FileWriter is deprecated. Please use tf.compat.v1.summary.FileWriter instead.\n\n",
      "WARNING:tensorflow:From c:\\users\\djenz\\appdata\\local\\programs\\python\\python37\\lib\\site-packages\\tflearn\\collections.py:13: The name tf.GraphKeys is deprecated. Please use tf.compat.v1.GraphKeys instead.\n\n",
      "WARNING:tensorflow:From c:\\users\\djenz\\appdata\\local\\programs\\python\\python37\\lib\\site-packages\\tflearn\\config.py:123: The name tf.get_collection is deprecated. Please use tf.compat.v1.get_collection instead.\n\n",
      "WARNING:tensorflow:From c:\\users\\djenz\\appdata\\local\\programs\\python\\python37\\lib\\site-packages\\tflearn\\config.py:129: The name tf.add_to_collection is deprecated. Please use tf.compat.v1.add_to_collection instead.\n\n",
      "WARNING:tensorflow:From c:\\users\\djenz\\appdata\\local\\programs\\python\\python37\\lib\\site-packages\\tflearn\\config.py:131: The name tf.assign is deprecated. Please use tf.compat.v1.assign instead.\n\n",
      "WARNING:tensorflow:From c:\\users\\djenz\\appdata\\local\\programs\\python\\python37\\lib\\site-packages\\tflearn\\layers\\core.py:81: The name tf.placeholder is deprecated. Please use tf.compat.v1.placeholder instead.\n\n",
      "WARNING:tensorflow:From c:\\users\\djenz\\appdata\\local\\programs\\python\\python37\\lib\\site-packages\\tflearn\\layers\\conv.py:73: The name tf.variable_scope is deprecated. Please use tf.compat.v1.variable_scope instead.\n\n",
      "WARNING:tensorflow:From c:\\users\\djenz\\appdata\\local\\programs\\python\\python37\\lib\\site-packages\\tflearn\\initializations.py:119: calling UniformUnitScaling.__init__ (from tensorflow.python.ops.init_ops) with dtype is deprecated and will be removed in a future version.\nInstructions for updating:\nCall initializer instance with the dtype argument instead of passing it to the constructor\n",
      "WARNING:tensorflow:From c:\\users\\djenz\\appdata\\local\\programs\\python\\python37\\lib\\site-packages\\tensorflow_core\\python\\util\\deprecation.py:507: UniformUnitScaling.__init__ (from tensorflow.python.ops.init_ops) is deprecated and will be removed in a future version.\nInstructions for updating:\nUse tf.initializers.variance_scaling instead with distribution=uniform to get equivalent behavior.\n",
      "WARNING:tensorflow:From c:\\users\\djenz\\appdata\\local\\programs\\python\\python37\\lib\\site-packages\\tflearn\\layers\\conv.py:552: The name tf.nn.max_pool is deprecated. Please use tf.nn.max_pool2d instead.\n\n",
      "WARNING:tensorflow:From c:\\users\\djenz\\appdata\\local\\programs\\python\\python37\\lib\\site-packages\\tflearn\\initializations.py:174: calling TruncatedNormal.__init__ (from tensorflow.python.ops.init_ops) with dtype is deprecated and will be removed in a future version.\nInstructions for updating:\nCall initializer instance with the dtype argument instead of passing it to the constructor\n",
      "WARNING:tensorflow:From c:\\users\\djenz\\appdata\\local\\programs\\python\\python37\\lib\\site-packages\\tflearn\\layers\\core.py:239: calling dropout (from tensorflow.python.ops.nn_ops) with keep_prob is deprecated and will be removed in a future version.\nInstructions for updating:\nPlease use `rate` instead of `keep_prob`. Rate should be set to `rate = 1 - keep_prob`.\n",
      "WARNING:tensorflow:From c:\\users\\djenz\\appdata\\local\\programs\\python\\python37\\lib\\site-packages\\tflearn\\optimizers.py:238: The name tf.train.AdamOptimizer is deprecated. Please use tf.compat.v1.train.AdamOptimizer instead.\n\n",
      "WARNING:tensorflow:From c:\\users\\djenz\\appdata\\local\\programs\\python\\python37\\lib\\site-packages\\tflearn\\objectives.py:66: calling reduce_sum_v1 (from tensorflow.python.ops.math_ops) with keep_dims is deprecated and will be removed in a future version.\nInstructions for updating:\nkeep_dims is deprecated, use keepdims instead\n",
      "WARNING:tensorflow:From c:\\users\\djenz\\appdata\\local\\programs\\python\\python37\\lib\\site-packages\\tflearn\\objectives.py:70: The name tf.log is deprecated. Please use tf.math.log instead.\n\n",
      "WARNING:tensorflow:From c:\\users\\djenz\\appdata\\local\\programs\\python\\python37\\lib\\site-packages\\tflearn\\layers\\estimator.py:189: The name tf.trainable_variables is deprecated. Please use tf.compat.v1.trainable_variables instead.\n\n",
      "WARNING:tensorflow:From c:\\users\\djenz\\appdata\\local\\programs\\python\\python37\\lib\\site-packages\\tflearn\\helpers\\trainer.py:571: The name tf.get_default_graph is deprecated. Please use tf.compat.v1.get_default_graph instead.\n\n",
      "WARNING:tensorflow:From c:\\users\\djenz\\appdata\\local\\programs\\python\\python37\\lib\\site-packages\\tflearn\\helpers\\trainer.py:115: The name tf.Session is deprecated. Please use tf.compat.v1.Session instead.\n\n",
      "WARNING:tensorflow:From c:\\users\\djenz\\appdata\\local\\programs\\python\\python37\\lib\\site-packages\\tflearn\\summaries.py:46: The name tf.summary.scalar is deprecated. Please use tf.compat.v1.summary.scalar instead.\n\n",
      "WARNING:tensorflow:From c:\\users\\djenz\\appdata\\local\\programs\\python\\python37\\lib\\site-packages\\tensorflow_core\\python\\ops\\math_grad.py:1424: where (from tensorflow.python.ops.array_ops) is deprecated and will be removed in a future version.\nInstructions for updating:\nUse tf.where in 2.0, which has the same broadcast rule as np.where\n",
      "WARNING:tensorflow:From c:\\users\\djenz\\appdata\\local\\programs\\python\\python37\\lib\\site-packages\\tflearn\\helpers\\trainer.py:134: The name tf.train.Saver is deprecated. Please use tf.compat.v1.train.Saver instead.\n\n",
      "WARNING:tensorflow:From c:\\users\\djenz\\appdata\\local\\programs\\python\\python37\\lib\\site-packages\\tflearn\\helpers\\trainer.py:164: The name tf.global_variables_initializer is deprecated. Please use tf.compat.v1.global_variables_initializer instead.\n\n",
      "WARNING:tensorflow:From c:\\users\\djenz\\appdata\\local\\programs\\python\\python37\\lib\\site-packages\\tflearn\\helpers\\trainer.py:165: The name tf.local_variables_initializer is deprecated. Please use tf.compat.v1.local_variables_initializer instead.\n\n",
      "WARNING:tensorflow:From c:\\users\\djenz\\appdata\\local\\programs\\python\\python37\\lib\\site-packages\\tflearn\\helpers\\trainer.py:166: The name tf.variables_initializer is deprecated. Please use tf.compat.v1.variables_initializer instead.\n\n",
      "WARNING:tensorflow:From c:\\users\\djenz\\appdata\\local\\programs\\python\\python37\\lib\\site-packages\\tflearn\\helpers\\trainer.py:167: The name tf.get_collection_ref is deprecated. Please use tf.compat.v1.get_collection_ref instead.\n\n"
     ],
     "output_type": "stream"
    }
   ],
   "source": [
    "import tflearn\n",
    "from tflearn.layers.conv import conv_2d, max_pool_2d\n",
    "from tflearn.layers.core import input_data, dropout, fully_connected\n",
    "from tflearn.layers.estimator import regression\n",
    "\n",
    "import tensorflow as tf\n",
    "\n",
    "tf.reset_default_graph()\n",
    "\n",
    "convnet = input_data(shape=[None, IMG_SIZE, IMG_SIZE, 1], name='input')\n",
    "\n",
    "convnet = conv_2d(convnet, 32, 2, activation='relu')\n",
    "convnet = max_pool_2d(convnet, 2)\n",
    "\n",
    "convnet = conv_2d(convnet, 64, 2, activation='relu')\n",
    "convnet = max_pool_2d(convnet, 2)\n",
    "\n",
    "\n",
    "convnet = conv_2d(convnet, 32, 2, activation='relu')\n",
    "convnet = max_pool_2d(convnet, 2)\n",
    "\n",
    "convnet = conv_2d(convnet, 64, 2, activation='relu')\n",
    "convnet = max_pool_2d(convnet, 2)\n",
    "\n",
    "\n",
    "convnet = conv_2d(convnet, 32, 2, activation='relu')\n",
    "convnet = max_pool_2d(convnet, 2)\n",
    "\n",
    "convnet = conv_2d(convnet, 64, 2, activation='relu')\n",
    "convnet = max_pool_2d(convnet, 2)\n",
    "\n",
    "\n",
    "convnet = fully_connected(convnet, 1024, activation='relu')\n",
    "convnet = dropout(convnet, 0.8)\n",
    "\n",
    "convnet = fully_connected(convnet, 2, activation='softmax')\n",
    "convnet = regression(convnet, optimizer='adam', learning_rate=LR, loss='categorical_crossentropy', name='targets')\n",
    "\n",
    "model = tflearn.DNN(convnet, tensorboard_dir='log')"
   ],
   "metadata": {
    "collapsed": false,
    "pycharm": {
     "name": "#%%\n",
     "is_executing": false
    }
   }
  },
  {
   "cell_type": "code",
   "execution_count": 7,
   "outputs": [],
   "source": [
    "# if os.path.exists('{}.meta'.format(MODEL_NAME)):\n",
    "#     model.load(MODEL_NAME)\n",
    "#     print(\"model loaded\")\n",
    "\n"
   ],
   "metadata": {
    "collapsed": false,
    "pycharm": {
     "name": "#%%\n",
     "is_executing": false
    }
   }
  },
  {
   "cell_type": "code",
   "execution_count": 8,
   "outputs": [],
   "source": [
    "train = train_data[:-500]\n",
    "test = train_data[-500:]\n",
    "\n"
   ],
   "metadata": {
    "collapsed": false,
    "pycharm": {
     "name": "#%%\n",
     "is_executing": false
    }
   }
  },
  {
   "cell_type": "code",
   "execution_count": 9,
   "outputs": [],
   "source": [
    "X = np.array([i[0] for i in train]).reshape(-1, IMG_SIZE, IMG_SIZE, 1)\n",
    "Y = [i[1] for i in train]\n",
    "\n",
    "test_x = np.array([i[0] for i in test]).reshape(-1, IMG_SIZE, IMG_SIZE, 1)\n",
    "test_y = [i[1] for i in test]"
   ],
   "metadata": {
    "collapsed": false,
    "pycharm": {
     "name": "#%%\n",
     "is_executing": false
    }
   }
  },
  {
   "cell_type": "code",
   "execution_count": 10,
   "outputs": [
    {
     "name": "stdout",
     "text": [
      "Training Step: 3829  | total loss: \u001b[1m\u001b[32m0.41865\u001b[0m\u001b[0m | time: 4.462s\n\u001b[2K\r| Adam | epoch: 010 | loss: 0.41865 - acc: 0.8001 -- iter: 24448/24500\n",
      "Training Step: 3830  | total loss: \u001b[1m\u001b[32m0.41514\u001b[0m\u001b[0m | time: 5.474s\n\u001b[2K\r| Adam | epoch: 010 | loss: 0.41514 - acc: 0.7998 | val_loss: 0.50323 - val_acc: 0.7700 -- iter: 24500/24500\n--\n"
     ],
     "output_type": "stream"
    }
   ],
   "source": [
    "# Train the network\n",
    "model.fit({'input': X}, {'targets': Y}, n_epoch=10, validation_set=({'input': test_x}, {'targets': test_y}), \n",
    "    snapshot_step=500, show_metric=True, run_id=MODEL_NAME)\n",
    "# tensorboard --logdir=\"C:\\Users\\djenz\\OneDrive - University of Vermont\\Machine-Learning-Final-Project\\CNN TUT\\log\""
   ],
   "metadata": {
    "collapsed": false,
    "pycharm": {
     "name": "#%%\n",
     "is_executing": false
    }
   }
  },
  {
   "cell_type": "code",
   "execution_count": 11,
   "outputs": [
    {
     "name": "stdout",
     "text": [
      "INFO:tensorflow:C:\\Users\\djenz\\OneDrive - University of Vermont\\Machine-Learning-Final-Project\\CNN TUT\\dogsvcats-0.001-6conv-basic-video.model is not in all_model_checkpoint_paths. Manually adding it.\n"
     ],
     "output_type": "stream"
    }
   ],
   "source": [
    "model.save(MODEL_NAME)\n"
   ],
   "metadata": {
    "collapsed": false,
    "pycharm": {
     "name": "#%%\n",
     "is_executing": false
    }
   }
  },
  {
   "cell_type": "code",
   "execution_count": 17,
   "outputs": [
    {
     "data": {
      "text/plain": "<Figure size 432x288 with 12 Axes>",
      "image/png": "[encoded data removed]"
     },
     "metadata": {
      "needs_background": "light"
     },
     "output_type": "display_data"
    }
   ],
   "source": [
    "import matplotlib.pyplot as plt\n",
    "\n",
    "# if you don't have this file yet\n",
    "#test_data = process_test_data()\n",
    "#if you already have it\n",
    "test_data = np.load('test_data.npy', allow_pickle=True)\n",
    "\n",
    "fig = plt.figure()\n",
    "\n",
    "for num, data in enumerate(test_data[:12]):\n",
    "    # cat : [1,0]\n",
    "    # dog : [0,1]\n",
    "    \n",
    "    img_num = data[1]\n",
    "    img_data = data[0]\n",
    "    \n",
    "    y = fig.add_subplot(3,4,num+1)\n",
    "    orig = img_data\n",
    "    data = img_data.reshape(IMG_SIZE,IMG_SIZE,1)\n",
    "    \n",
    "    model_out = model.predict([data])[0]\n",
    "    \n",
    "    if np.argmax(model_out) == 1: str_label=\"Dog\"\n",
    "    else: str_label=\"Cat\"\n",
    "    \n",
    "    y.imshow(orig, cmap='gray')\n",
    "    plt.title(str_label)\n",
    "    y.axes.get_xaxis().set_visible(False)\n",
    "    y.axes.get_yaxis().set_visible(False)\n",
    "plt.show()\n",
    "    "
   ],
   "metadata": {
    "collapsed": false,
    "pycharm": {
     "name": "#%%\n",
     "is_executing": false
    }
   }
  },
  {
   "cell_type": "code",
   "execution_count": 15,
   "outputs": [],
   "source": [
    "with open('submission-file.csv','w') as f:\n",
    "    f.write('id,label\\n')\n",
    "\n"
   ],
   "metadata": {
    "collapsed": false,
    "pycharm": {
     "name": "#%%\n",
     "is_executing": false
    }
   }
  },
  {
   "cell_type": "code",
   "execution_count": 16,
   "outputs": [
    {
     "name": "stderr",
     "text": [
      "\r  0%|          | 0/12500 [00:00<?, ?it/s]",
      "\r  1%|          | 71/12500 [00:00<00:17, 709.42it/s]",
      "\r  1%|▏         | 166/12500 [00:00<00:16, 766.20it/s]",
      "\r  2%|▏         | 252/12500 [00:00<00:15, 791.94it/s]",
      "\r  3%|▎         | 341/12500 [00:00<00:14, 818.83it/s]",
      "\r  3%|▎         | 434/12500 [00:00<00:14, 849.10it/s]",
      "\r  4%|▍         | 527/12500 [00:00<00:13, 869.74it/s]",
      "\r  5%|▍         | 607/12500 [00:00<00:15, 773.55it/s]",
      "\r  6%|▌         | 693/12500 [00:00<00:14, 797.42it/s]",
      "\r  6%|▋         | 785/12500 [00:00<00:14, 830.44it/s]",
      "\r  7%|▋         | 867/12500 [00:01<00:14, 827.07it/s]",
      "\r  8%|▊         | 949/12500 [00:01<00:14, 793.58it/s]",
      "\r  8%|▊         | 1036/12500 [00:01<00:14, 814.87it/s]",
      "\r  9%|▉         | 1124/12500 [00:01<00:13, 833.18it/s]",
      "\r 10%|▉         | 1208/12500 [00:01<00:13, 830.06it/s]",
      "\r 10%|█         | 1298/12500 [00:01<00:13, 849.68it/s]",
      "\r 11%|█         | 1391/12500 [00:01<00:12, 872.07it/s]",
      "\r 12%|█▏        | 1483/12500 [00:01<00:12, 885.71it/s]",
      "\r 13%|█▎        | 1572/12500 [00:01<00:13, 825.07it/s]",
      "\r 13%|█▎        | 1660/12500 [00:01<00:12, 840.62it/s]",
      "\r 14%|█▍        | 1748/12500 [00:02<00:12, 851.86it/s]",
      "\r 15%|█▍        | 1837/12500 [00:02<00:12, 862.75it/s]",
      "\r 15%|█▌        | 1924/12500 [00:02<00:12, 832.41it/s]",
      "\r 16%|█▌        | 2014/12500 [00:02<00:12, 851.40it/s]",
      "\r 17%|█▋        | 2103/12500 [00:02<00:12, 862.42it/s]",
      "\r 18%|█▊        | 2192/12500 [00:02<00:11, 870.30it/s]",
      "\r 18%|█▊        | 2280/12500 [00:02<00:12, 812.48it/s]",
      "\r 19%|█▉        | 2372/12500 [00:02<00:12, 841.81it/s]",
      "\r 20%|█▉        | 2461/12500 [00:02<00:11, 855.51it/s]",
      "\r 20%|██        | 2548/12500 [00:03<00:11, 842.11it/s]",
      "\r 21%|██        | 2633/12500 [00:03<00:11, 836.77it/s]",
      "\r 22%|██▏       | 2722/12500 [00:03<00:11, 851.86it/s]",
      "\r 23%|██▎       | 2813/12500 [00:03<00:11, 865.82it/s]",
      "\r 23%|██▎       | 2902/12500 [00:03<00:10, 872.73it/s]",
      "\r 24%|██▍       | 2993/12500 [00:03<00:10, 883.37it/s]",
      "\r 25%|██▍       | 3083/12500 [00:03<00:10, 888.08it/s]",
      "\r 25%|██▌       | 3172/12500 [00:03<00:11, 840.57it/s]",
      "\r 26%|██▌       | 3264/12500 [00:03<00:10, 862.72it/s]",
      "\r 27%|██▋       | 3356/12500 [00:03<00:10, 878.94it/s]",
      "\r 28%|██▊       | 3446/12500 [00:04<00:10, 884.94it/s]",
      "\r 28%|██▊       | 3535/12500 [00:04<00:10, 833.88it/s]",
      "\r 29%|██▉       | 3620/12500 [00:04<00:10, 838.45it/s]",
      "\r 30%|██▉       | 3705/12500 [00:04<00:10, 839.18it/s]",
      "\r 30%|███       | 3790/12500 [00:04<00:10, 797.14it/s]",
      "\r 31%|███       | 3871/12500 [00:04<00:10, 796.03it/s]",
      "\r 32%|███▏      | 3953/12500 [00:04<00:10, 802.88it/s]",
      "\r 32%|███▏      | 4034/12500 [00:04<00:10, 804.81it/s]",
      "\r 33%|███▎      | 4115/12500 [00:04<00:11, 757.84it/s]",
      "\r 34%|███▎      | 4201/12500 [00:05<00:10, 785.67it/s]",
      "\r 34%|███▍      | 4289/12500 [00:05<00:10, 811.59it/s]",
      "\r 35%|███▌      | 4377/12500 [00:05<00:09, 830.78it/s]",
      "\r 36%|███▌      | 4461/12500 [00:05<00:09, 809.22it/s]",
      "\r 36%|███▋      | 4552/12500 [00:05<00:09, 836.84it/s]",
      "\r 37%|███▋      | 4644/12500 [00:05<00:09, 859.97it/s]",
      "\r 38%|███▊      | 4732/12500 [00:05<00:08, 865.67it/s]",
      "\r 39%|███▊      | 4823/12500 [00:05<00:08, 878.30it/s]",
      "\r 39%|███▉      | 4916/12500 [00:05<00:08, 892.99it/s]",
      "\r 40%|████      | 5009/12500 [00:05<00:08, 900.93it/s]",
      "\r 41%|████      | 5100/12500 [00:06<00:08, 838.44it/s]",
      "\r 42%|████▏     | 5191/12500 [00:06<00:08, 858.50it/s]",
      "\r 42%|████▏     | 5285/12500 [00:06<00:08, 878.75it/s]",
      "\r 43%|████▎     | 5374/12500 [00:06<00:08, 863.89it/s]",
      "\r 44%|████▎     | 5461/12500 [00:06<00:08, 847.78it/s]",
      "\r 44%|████▍     | 5547/12500 [00:06<00:08, 848.68it/s]",
      "\r 45%|████▌     | 5636/12500 [00:06<00:07, 860.46it/s]",
      "\r 46%|████▌     | 5728/12500 [00:06<00:07, 877.30it/s]",
      "\r 47%|████▋     | 5818/12500 [00:06<00:07, 883.77it/s]",
      "\r 47%|████▋     | 5907/12500 [00:06<00:07, 872.38it/s]",
      "\r 48%|████▊     | 5995/12500 [00:07<00:07, 864.13it/s]",
      "\r 49%|████▊     | 6082/12500 [00:07<00:07, 863.09it/s]",
      "\r 49%|████▉     | 6169/12500 [00:07<00:07, 851.78it/s]",
      "\r 50%|█████     | 6255/12500 [00:07<00:07, 841.48it/s]",
      "\r 51%|█████     | 6340/12500 [00:07<00:07, 833.87it/s]",
      "\r 51%|█████▏    | 6424/12500 [00:07<00:07, 833.03it/s]",
      "\r 52%|█████▏    | 6508/12500 [00:07<00:07, 820.23it/s]",
      "\r 53%|█████▎    | 6600/12500 [00:07<00:06, 847.62it/s]",
      "\r 54%|█████▎    | 6693/12500 [00:07<00:06, 870.56it/s]",
      "\r 54%|█████▍    | 6781/12500 [00:08<00:07, 802.60it/s]",
      "\r 55%|█████▍    | 6865/12500 [00:08<00:06, 810.92it/s]",
      "\r 56%|█████▌    | 6950/12500 [00:08<00:06, 819.69it/s]",
      "\r 56%|█████▋    | 7033/12500 [00:08<00:06, 809.23it/s]",
      "\r 57%|█████▋    | 7122/12500 [00:08<00:06, 831.69it/s]",
      "\r 58%|█████▊    | 7214/12500 [00:08<00:06, 856.16it/s]",
      "\r 58%|█████▊    | 7305/12500 [00:08<00:05, 871.42it/s]",
      "\r 59%|█████▉    | 7393/12500 [00:08<00:06, 831.62it/s]",
      "\r 60%|█████▉    | 7486/12500 [00:08<00:05, 858.68it/s]",
      "\r 61%|██████    | 7579/12500 [00:08<00:05, 878.70it/s]",
      "\r 61%|██████▏   | 7668/12500 [00:09<00:05, 876.63it/s]",
      "\r 62%|██████▏   | 7757/12500 [00:09<00:05, 880.38it/s]",
      "\r 63%|██████▎   | 7849/12500 [00:09<00:05, 891.69it/s]",
      "\r 64%|██████▎   | 7940/12500 [00:09<00:05, 896.89it/s]",
      "\r 64%|██████▍   | 8030/12500 [00:09<00:05, 856.56it/s]",
      "\r 65%|██████▍   | 8121/12500 [00:09<00:05, 871.72it/s]",
      "\r 66%|██████▌   | 8214/12500 [00:09<00:04, 888.21it/s]",
      "\r 66%|██████▋   | 8304/12500 [00:09<00:04, 868.54it/s]",
      "\r 67%|██████▋   | 8393/12500 [00:09<00:04, 874.66it/s]",
      "\r 68%|██████▊   | 8487/12500 [00:09<00:04, 893.08it/s]",
      "\r 69%|██████▊   | 8580/12500 [00:10<00:04, 901.00it/s]",
      "\r 69%|██████▉   | 8671/12500 [00:10<00:04, 862.33it/s]",
      "\r 70%|███████   | 8762/12500 [00:10<00:04, 875.88it/s]",
      "\r 71%|███████   | 8854/12500 [00:10<00:04, 885.41it/s]",
      "\r 72%|███████▏  | 8943/12500 [00:10<00:04, 882.62it/s]",
      "\r 72%|███████▏  | 9037/12500 [00:10<00:03, 898.87it/s]",
      "\r 73%|███████▎  | 9131/12500 [00:10<00:03, 910.61it/s]",
      "\r 74%|███████▍  | 9223/12500 [00:10<00:03, 902.43it/s]",
      "\r 75%|███████▍  | 9314/12500 [00:10<00:03, 896.44it/s]",
      "\r 75%|███████▌  | 9406/12500 [00:11<00:03, 903.16it/s]",
      "\r 76%|███████▌  | 9497/12500 [00:11<00:03, 904.98it/s]",
      "\r 77%|███████▋  | 9589/12500 [00:11<00:03, 909.22it/s]",
      "\r 77%|███████▋  | 9683/12500 [00:11<00:03, 918.02it/s]",
      "\r 78%|███████▊  | 9776/12500 [00:11<00:02, 921.35it/s]",
      "\r 79%|███████▉  | 9869/12500 [00:11<00:02, 920.96it/s]",
      "\r 80%|███████▉  | 9962/12500 [00:11<00:02, 923.43it/s]",
      "\r 80%|████████  | 10056/12500 [00:11<00:02, 928.11it/s]",
      "\r 81%|████████  | 10149/12500 [00:11<00:02, 878.42it/s]",
      "\r 82%|████████▏ | 10241/12500 [00:11<00:02, 890.29it/s]",
      "\r 83%|████████▎ | 10334/12500 [00:12<00:02, 901.62it/s]",
      "\r 83%|████████▎ | 10425/12500 [00:12<00:02, 888.01it/s]",
      "\r 84%|████████▍ | 10516/12500 [00:12<00:02, 894.28it/s]",
      "\r 85%|████████▍ | 10610/12500 [00:12<00:02, 907.31it/s]",
      "\r 86%|████████▌ | 10701/12500 [00:12<00:01, 902.48it/s]",
      "\r 86%|████████▋ | 10792/12500 [00:12<00:01, 899.14it/s]",
      "\r 87%|████████▋ | 10883/12500 [00:12<00:01, 902.15it/s]",
      "\r 88%|████████▊ | 10975/12500 [00:12<00:01, 907.21it/s]",
      "\r 89%|████████▊ | 11066/12500 [00:12<00:01, 905.11it/s]",
      "\r 89%|████████▉ | 11157/12500 [00:12<00:01, 906.35it/s]",
      "\r 90%|█████████ | 11251/12500 [00:13<00:01, 915.97it/s]",
      "\r 91%|█████████ | 11343/12500 [00:13<00:01, 850.76it/s]",
      "\r 91%|█████████▏| 11434/12500 [00:13<00:01, 867.50it/s]",
      "\r 92%|█████████▏| 11526/12500 [00:13<00:01, 882.40it/s]",
      "\r 93%|█████████▎| 11615/12500 [00:13<00:01, 881.82it/s]",
      "\r 94%|█████████▎| 11704/12500 [00:13<00:00, 884.05it/s]",
      "\r 94%|█████████▍| 11796/12500 [00:13<00:00, 894.32it/s]",
      "\r 95%|█████████▌| 11889/12500 [00:13<00:00, 904.52it/s]",
      "\r 96%|█████████▌| 11980/12500 [00:13<00:00, 877.10it/s]",
      "\r 97%|█████████▋| 12074/12500 [00:13<00:00, 894.86it/s]",
      "\r 97%|█████████▋| 12164/12500 [00:14<00:00, 896.17it/s]",
      "\r 98%|█████████▊| 12254/12500 [00:14<00:00, 897.10it/s]",
      "\r 99%|█████████▉| 12344/12500 [00:14<00:00, 861.62it/s]",
      "\r100%|█████████▉| 12438/12500 [00:14<00:00, 883.52it/s]",
      "\r100%|██████████| 12500/12500 [00:14<00:00, 864.55it/s]",
      "\n"
     ],
     "output_type": "stream"
    }
   ],
   "source": [
    "with open('submission-file.csv','a') as f:\n",
    "    for data in tqdm(test_data):\n",
    "        img_num = data[1]\n",
    "        img_data = data[0]\n",
    "        orig = img_data\n",
    "        data = img_data.reshape(IMG_SIZE,IMG_SIZE,1)\n",
    "        model_out = model.predict([data])[0]\n",
    "        f.write('{},{}\\n'.format(img_num, model_out[1]))\n",
    "        \n",
    "        \n",
    "\n"
   ],
   "metadata": {
    "collapsed": false,
    "pycharm": {
     "name": "#%%\n",
     "is_executing": false
    }
   }
  },
  {
   "cell_type": "code",
   "execution_count": null,
   "outputs": [],
   "source": [
    "\n"
   ],
   "metadata": {
    "collapsed": false,
    "pycharm": {
     "name": "#%%\n"
    }
   }
  }
 ],
 "metadata": {
  "kernelspec": {
   "display_name": "Python 3",
   "language": "python",
   "name": "python3"
  },
  "language_info": {
   "codemirror_mode": {
    "name": "ipython",
    "version": 2
   },
   "file_extension": ".py",
   "mimetype": "text/x-python",
   "name": "python",
   "nbconvert_exporter": "python",
   "pygments_lexer": "ipython2",
   "version": "2.7.6"
  },
  "pycharm": {
   "stem_cell": {
    "cell_type": "raw",
    "source": [],
    "metadata": {
     "collapsed": false
    }
   }
  }
 },
 "nbformat": 4,
 "nbformat_minor": 0
}